{
  "nbformat": 4,
  "nbformat_minor": 0,
  "metadata": {
    "colab": {
      "provenance": [],
      "gpuType": "T4"
    },
    "kernelspec": {
      "name": "python3",
      "display_name": "Python 3"
    },
    "language_info": {
      "name": "python"
    },
    "accelerator": "GPU",
    "widgets": {
      "application/vnd.jupyter.widget-state+json": {
        "6593fcf1203042de8471139d6cd9816b": {
          "model_module": "@jupyter-widgets/controls",
          "model_name": "HBoxModel",
          "model_module_version": "1.5.0",
          "state": {
            "_dom_classes": [],
            "_model_module": "@jupyter-widgets/controls",
            "_model_module_version": "1.5.0",
            "_model_name": "HBoxModel",
            "_view_count": null,
            "_view_module": "@jupyter-widgets/controls",
            "_view_module_version": "1.5.0",
            "_view_name": "HBoxView",
            "box_style": "",
            "children": [
              "IPY_MODEL_113462faebaa44ff83a8f2d174f65f2d",
              "IPY_MODEL_e79e96e9416f404bb59e6dc5f412e53b",
              "IPY_MODEL_b639bf66fb5a4b8ab981b7754616927a"
            ],
            "layout": "IPY_MODEL_b42e0defa1044bf589cd2940e9363efa"
          }
        },
        "113462faebaa44ff83a8f2d174f65f2d": {
          "model_module": "@jupyter-widgets/controls",
          "model_name": "HTMLModel",
          "model_module_version": "1.5.0",
          "state": {
            "_dom_classes": [],
            "_model_module": "@jupyter-widgets/controls",
            "_model_module_version": "1.5.0",
            "_model_name": "HTMLModel",
            "_view_count": null,
            "_view_module": "@jupyter-widgets/controls",
            "_view_module_version": "1.5.0",
            "_view_name": "HTMLView",
            "description": "",
            "description_tooltip": null,
            "layout": "IPY_MODEL_8e56b7d2160a4f17a1986ed0a4e8fc2a",
            "placeholder": "​",
            "style": "IPY_MODEL_00ba4094b74c419387569d718ab0d185",
            "value": "100%"
          }
        },
        "e79e96e9416f404bb59e6dc5f412e53b": {
          "model_module": "@jupyter-widgets/controls",
          "model_name": "FloatProgressModel",
          "model_module_version": "1.5.0",
          "state": {
            "_dom_classes": [],
            "_model_module": "@jupyter-widgets/controls",
            "_model_module_version": "1.5.0",
            "_model_name": "FloatProgressModel",
            "_view_count": null,
            "_view_module": "@jupyter-widgets/controls",
            "_view_module_version": "1.5.0",
            "_view_name": "ProgressView",
            "bar_style": "success",
            "description": "",
            "description_tooltip": null,
            "layout": "IPY_MODEL_94d5b62071424417a590df17c8fca882",
            "max": 5,
            "min": 0,
            "orientation": "horizontal",
            "style": "IPY_MODEL_5c992dae9934448ea4db3ea9e2fe3d46",
            "value": 5
          }
        },
        "b639bf66fb5a4b8ab981b7754616927a": {
          "model_module": "@jupyter-widgets/controls",
          "model_name": "HTMLModel",
          "model_module_version": "1.5.0",
          "state": {
            "_dom_classes": [],
            "_model_module": "@jupyter-widgets/controls",
            "_model_module_version": "1.5.0",
            "_model_name": "HTMLModel",
            "_view_count": null,
            "_view_module": "@jupyter-widgets/controls",
            "_view_module_version": "1.5.0",
            "_view_name": "HTMLView",
            "description": "",
            "description_tooltip": null,
            "layout": "IPY_MODEL_f2c429990e3c4a64aac7b21efeb4ccaf",
            "placeholder": "​",
            "style": "IPY_MODEL_c75e61ec63974deb88db727243ba8ba1",
            "value": " 5/5 [18:39&lt;00:00, 221.13s/it]"
          }
        },
        "b42e0defa1044bf589cd2940e9363efa": {
          "model_module": "@jupyter-widgets/base",
          "model_name": "LayoutModel",
          "model_module_version": "1.2.0",
          "state": {
            "_model_module": "@jupyter-widgets/base",
            "_model_module_version": "1.2.0",
            "_model_name": "LayoutModel",
            "_view_count": null,
            "_view_module": "@jupyter-widgets/base",
            "_view_module_version": "1.2.0",
            "_view_name": "LayoutView",
            "align_content": null,
            "align_items": null,
            "align_self": null,
            "border": null,
            "bottom": null,
            "display": null,
            "flex": null,
            "flex_flow": null,
            "grid_area": null,
            "grid_auto_columns": null,
            "grid_auto_flow": null,
            "grid_auto_rows": null,
            "grid_column": null,
            "grid_gap": null,
            "grid_row": null,
            "grid_template_areas": null,
            "grid_template_columns": null,
            "grid_template_rows": null,
            "height": null,
            "justify_content": null,
            "justify_items": null,
            "left": null,
            "margin": null,
            "max_height": null,
            "max_width": null,
            "min_height": null,
            "min_width": null,
            "object_fit": null,
            "object_position": null,
            "order": null,
            "overflow": null,
            "overflow_x": null,
            "overflow_y": null,
            "padding": null,
            "right": null,
            "top": null,
            "visibility": null,
            "width": null
          }
        },
        "8e56b7d2160a4f17a1986ed0a4e8fc2a": {
          "model_module": "@jupyter-widgets/base",
          "model_name": "LayoutModel",
          "model_module_version": "1.2.0",
          "state": {
            "_model_module": "@jupyter-widgets/base",
            "_model_module_version": "1.2.0",
            "_model_name": "LayoutModel",
            "_view_count": null,
            "_view_module": "@jupyter-widgets/base",
            "_view_module_version": "1.2.0",
            "_view_name": "LayoutView",
            "align_content": null,
            "align_items": null,
            "align_self": null,
            "border": null,
            "bottom": null,
            "display": null,
            "flex": null,
            "flex_flow": null,
            "grid_area": null,
            "grid_auto_columns": null,
            "grid_auto_flow": null,
            "grid_auto_rows": null,
            "grid_column": null,
            "grid_gap": null,
            "grid_row": null,
            "grid_template_areas": null,
            "grid_template_columns": null,
            "grid_template_rows": null,
            "height": null,
            "justify_content": null,
            "justify_items": null,
            "left": null,
            "margin": null,
            "max_height": null,
            "max_width": null,
            "min_height": null,
            "min_width": null,
            "object_fit": null,
            "object_position": null,
            "order": null,
            "overflow": null,
            "overflow_x": null,
            "overflow_y": null,
            "padding": null,
            "right": null,
            "top": null,
            "visibility": null,
            "width": null
          }
        },
        "00ba4094b74c419387569d718ab0d185": {
          "model_module": "@jupyter-widgets/controls",
          "model_name": "DescriptionStyleModel",
          "model_module_version": "1.5.0",
          "state": {
            "_model_module": "@jupyter-widgets/controls",
            "_model_module_version": "1.5.0",
            "_model_name": "DescriptionStyleModel",
            "_view_count": null,
            "_view_module": "@jupyter-widgets/base",
            "_view_module_version": "1.2.0",
            "_view_name": "StyleView",
            "description_width": ""
          }
        },
        "94d5b62071424417a590df17c8fca882": {
          "model_module": "@jupyter-widgets/base",
          "model_name": "LayoutModel",
          "model_module_version": "1.2.0",
          "state": {
            "_model_module": "@jupyter-widgets/base",
            "_model_module_version": "1.2.0",
            "_model_name": "LayoutModel",
            "_view_count": null,
            "_view_module": "@jupyter-widgets/base",
            "_view_module_version": "1.2.0",
            "_view_name": "LayoutView",
            "align_content": null,
            "align_items": null,
            "align_self": null,
            "border": null,
            "bottom": null,
            "display": null,
            "flex": null,
            "flex_flow": null,
            "grid_area": null,
            "grid_auto_columns": null,
            "grid_auto_flow": null,
            "grid_auto_rows": null,
            "grid_column": null,
            "grid_gap": null,
            "grid_row": null,
            "grid_template_areas": null,
            "grid_template_columns": null,
            "grid_template_rows": null,
            "height": null,
            "justify_content": null,
            "justify_items": null,
            "left": null,
            "margin": null,
            "max_height": null,
            "max_width": null,
            "min_height": null,
            "min_width": null,
            "object_fit": null,
            "object_position": null,
            "order": null,
            "overflow": null,
            "overflow_x": null,
            "overflow_y": null,
            "padding": null,
            "right": null,
            "top": null,
            "visibility": null,
            "width": null
          }
        },
        "5c992dae9934448ea4db3ea9e2fe3d46": {
          "model_module": "@jupyter-widgets/controls",
          "model_name": "ProgressStyleModel",
          "model_module_version": "1.5.0",
          "state": {
            "_model_module": "@jupyter-widgets/controls",
            "_model_module_version": "1.5.0",
            "_model_name": "ProgressStyleModel",
            "_view_count": null,
            "_view_module": "@jupyter-widgets/base",
            "_view_module_version": "1.2.0",
            "_view_name": "StyleView",
            "bar_color": null,
            "description_width": ""
          }
        },
        "f2c429990e3c4a64aac7b21efeb4ccaf": {
          "model_module": "@jupyter-widgets/base",
          "model_name": "LayoutModel",
          "model_module_version": "1.2.0",
          "state": {
            "_model_module": "@jupyter-widgets/base",
            "_model_module_version": "1.2.0",
            "_model_name": "LayoutModel",
            "_view_count": null,
            "_view_module": "@jupyter-widgets/base",
            "_view_module_version": "1.2.0",
            "_view_name": "LayoutView",
            "align_content": null,
            "align_items": null,
            "align_self": null,
            "border": null,
            "bottom": null,
            "display": null,
            "flex": null,
            "flex_flow": null,
            "grid_area": null,
            "grid_auto_columns": null,
            "grid_auto_flow": null,
            "grid_auto_rows": null,
            "grid_column": null,
            "grid_gap": null,
            "grid_row": null,
            "grid_template_areas": null,
            "grid_template_columns": null,
            "grid_template_rows": null,
            "height": null,
            "justify_content": null,
            "justify_items": null,
            "left": null,
            "margin": null,
            "max_height": null,
            "max_width": null,
            "min_height": null,
            "min_width": null,
            "object_fit": null,
            "object_position": null,
            "order": null,
            "overflow": null,
            "overflow_x": null,
            "overflow_y": null,
            "padding": null,
            "right": null,
            "top": null,
            "visibility": null,
            "width": null
          }
        },
        "c75e61ec63974deb88db727243ba8ba1": {
          "model_module": "@jupyter-widgets/controls",
          "model_name": "DescriptionStyleModel",
          "model_module_version": "1.5.0",
          "state": {
            "_model_module": "@jupyter-widgets/controls",
            "_model_module_version": "1.5.0",
            "_model_name": "DescriptionStyleModel",
            "_view_count": null,
            "_view_module": "@jupyter-widgets/base",
            "_view_module_version": "1.2.0",
            "_view_name": "StyleView",
            "description_width": ""
          }
        }
      }
    }
  },
  "cells": [
    {
      "cell_type": "code",
      "source": [
        "import torch\n",
        "from torch import nn\n",
        "import torchvision"
      ],
      "metadata": {
        "id": "S2rjsAshISHH"
      },
      "execution_count": 31,
      "outputs": []
    },
    {
      "cell_type": "code",
      "source": [
        "!pip install torchinfo\n",
        "from torchinfo import summary"
      ],
      "metadata": {
        "colab": {
          "base_uri": "https://localhost:8080/"
        },
        "id": "Bdf1s_jpIyJx",
        "outputId": "8d35a8ed-d99c-43fb-cdf5-3cca9dd34710"
      },
      "execution_count": 32,
      "outputs": [
        {
          "output_type": "stream",
          "name": "stdout",
          "text": [
            "Requirement already satisfied: torchinfo in /usr/local/lib/python3.10/dist-packages (1.8.0)\n"
          ]
        }
      ]
    },
    {
      "cell_type": "code",
      "source": [
        "weights = torchvision.models.EfficientNet_B2_Weights.DEFAULT\n",
        "model = torchvision.models.efficientnet_b2(weights=weights)"
      ],
      "metadata": {
        "id": "GdTOVOYDIkfa"
      },
      "execution_count": 33,
      "outputs": []
    },
    {
      "cell_type": "code",
      "source": [
        "auto_transforms = weights.transforms()"
      ],
      "metadata": {
        "id": "Bo1GUErXIni3"
      },
      "execution_count": 34,
      "outputs": []
    },
    {
      "cell_type": "code",
      "source": [
        "auto_transforms"
      ],
      "metadata": {
        "colab": {
          "base_uri": "https://localhost:8080/"
        },
        "id": "nu-3ApjJIrAH",
        "outputId": "93342a20-e8e4-4e4e-aa55-2796b21aef57"
      },
      "execution_count": 35,
      "outputs": [
        {
          "output_type": "execute_result",
          "data": {
            "text/plain": [
              "ImageClassification(\n",
              "    crop_size=[288]\n",
              "    resize_size=[288]\n",
              "    mean=[0.485, 0.456, 0.406]\n",
              "    std=[0.229, 0.224, 0.225]\n",
              "    interpolation=InterpolationMode.BICUBIC\n",
              ")"
            ]
          },
          "metadata": {},
          "execution_count": 35
        }
      ]
    },
    {
      "cell_type": "code",
      "source": [
        "!pip install torchsummary --upgrade"
      ],
      "metadata": {
        "colab": {
          "base_uri": "https://localhost:8080/"
        },
        "id": "s0ChHH1WSclH",
        "outputId": "970f0f23-9797-4e45-81f2-1d789ab3c2f8"
      },
      "execution_count": 38,
      "outputs": [
        {
          "output_type": "stream",
          "name": "stdout",
          "text": [
            "Requirement already satisfied: torchsummary in /usr/local/lib/python3.10/dist-packages (1.5.1)\n"
          ]
        }
      ]
    },
    {
      "cell_type": "code",
      "source": [
        "col_names=[\"input_size\", \"output_size\", \"num_params\", \"trainable\"]\n",
        "\n",
        "summary(model,\n",
        "        input_size=(1, 3, 224, 224),\n",
        "        col_names=col_names,\n",
        "        col_width=20,\n",
        "        row_settings=[\"var_names\"])"
      ],
      "metadata": {
        "colab": {
          "base_uri": "https://localhost:8080/"
        },
        "id": "wq7yvZmrI3SD",
        "outputId": "334756f4-7a1a-4771-cfb6-110ca08dfc22"
      },
      "execution_count": 39,
      "outputs": [
        {
          "output_type": "execute_result",
          "data": {
            "text/plain": [
              "============================================================================================================================================\n",
              "Layer (type (var_name))                                      Input Shape          Output Shape         Param #              Trainable\n",
              "============================================================================================================================================\n",
              "EfficientNet (EfficientNet)                                  [1, 3, 224, 224]     [1, 1000]            --                   True\n",
              "├─Sequential (features)                                      [1, 3, 224, 224]     [1, 1408, 7, 7]      --                   True\n",
              "│    └─Conv2dNormActivation (0)                              [1, 3, 224, 224]     [1, 32, 112, 112]    --                   True\n",
              "│    │    └─Conv2d (0)                                       [1, 3, 224, 224]     [1, 32, 112, 112]    864                  True\n",
              "│    │    └─BatchNorm2d (1)                                  [1, 32, 112, 112]    [1, 32, 112, 112]    64                   True\n",
              "│    │    └─SiLU (2)                                         [1, 32, 112, 112]    [1, 32, 112, 112]    --                   --\n",
              "│    └─Sequential (1)                                        [1, 32, 112, 112]    [1, 16, 112, 112]    --                   True\n",
              "│    │    └─MBConv (0)                                       [1, 32, 112, 112]    [1, 16, 112, 112]    1,448                True\n",
              "│    │    └─MBConv (1)                                       [1, 16, 112, 112]    [1, 16, 112, 112]    612                  True\n",
              "│    └─Sequential (2)                                        [1, 16, 112, 112]    [1, 24, 56, 56]      --                   True\n",
              "│    │    └─MBConv (0)                                       [1, 16, 112, 112]    [1, 24, 56, 56]      6,004                True\n",
              "│    │    └─MBConv (1)                                       [1, 24, 56, 56]      [1, 24, 56, 56]      10,710               True\n",
              "│    │    └─MBConv (2)                                       [1, 24, 56, 56]      [1, 24, 56, 56]      10,710               True\n",
              "│    └─Sequential (3)                                        [1, 24, 56, 56]      [1, 48, 28, 28]      --                   True\n",
              "│    │    └─MBConv (0)                                       [1, 24, 56, 56]      [1, 48, 28, 28]      16,518               True\n",
              "│    │    └─MBConv (1)                                       [1, 48, 28, 28]      [1, 48, 28, 28]      43,308               True\n",
              "│    │    └─MBConv (2)                                       [1, 48, 28, 28]      [1, 48, 28, 28]      43,308               True\n",
              "│    └─Sequential (4)                                        [1, 48, 28, 28]      [1, 88, 14, 14]      --                   True\n",
              "│    │    └─MBConv (0)                                       [1, 48, 28, 28]      [1, 88, 14, 14]      50,300               True\n",
              "│    │    └─MBConv (1)                                       [1, 88, 14, 14]      [1, 88, 14, 14]      123,750              True\n",
              "│    │    └─MBConv (2)                                       [1, 88, 14, 14]      [1, 88, 14, 14]      123,750              True\n",
              "│    │    └─MBConv (3)                                       [1, 88, 14, 14]      [1, 88, 14, 14]      123,750              True\n",
              "│    └─Sequential (5)                                        [1, 88, 14, 14]      [1, 120, 14, 14]     --                   True\n",
              "│    │    └─MBConv (0)                                       [1, 88, 14, 14]      [1, 120, 14, 14]     149,158              True\n",
              "│    │    └─MBConv (1)                                       [1, 120, 14, 14]     [1, 120, 14, 14]     237,870              True\n",
              "│    │    └─MBConv (2)                                       [1, 120, 14, 14]     [1, 120, 14, 14]     237,870              True\n",
              "│    │    └─MBConv (3)                                       [1, 120, 14, 14]     [1, 120, 14, 14]     237,870              True\n",
              "│    └─Sequential (6)                                        [1, 120, 14, 14]     [1, 208, 7, 7]       --                   True\n",
              "│    │    └─MBConv (0)                                       [1, 120, 14, 14]     [1, 208, 7, 7]       301,406              True\n",
              "│    │    └─MBConv (1)                                       [1, 208, 7, 7]       [1, 208, 7, 7]       686,868              True\n",
              "│    │    └─MBConv (2)                                       [1, 208, 7, 7]       [1, 208, 7, 7]       686,868              True\n",
              "│    │    └─MBConv (3)                                       [1, 208, 7, 7]       [1, 208, 7, 7]       686,868              True\n",
              "│    │    └─MBConv (4)                                       [1, 208, 7, 7]       [1, 208, 7, 7]       686,868              True\n",
              "│    └─Sequential (7)                                        [1, 208, 7, 7]       [1, 352, 7, 7]       --                   True\n",
              "│    │    └─MBConv (0)                                       [1, 208, 7, 7]       [1, 352, 7, 7]       846,900              True\n",
              "│    │    └─MBConv (1)                                       [1, 352, 7, 7]       [1, 352, 7, 7]       1,888,920            True\n",
              "│    └─Conv2dNormActivation (8)                              [1, 352, 7, 7]       [1, 1408, 7, 7]      --                   True\n",
              "│    │    └─Conv2d (0)                                       [1, 352, 7, 7]       [1, 1408, 7, 7]      495,616              True\n",
              "│    │    └─BatchNorm2d (1)                                  [1, 1408, 7, 7]      [1, 1408, 7, 7]      2,816                True\n",
              "│    │    └─SiLU (2)                                         [1, 1408, 7, 7]      [1, 1408, 7, 7]      --                   --\n",
              "├─AdaptiveAvgPool2d (avgpool)                                [1, 1408, 7, 7]      [1, 1408, 1, 1]      --                   --\n",
              "├─Sequential (classifier)                                    [1, 1408]            [1, 1000]            --                   True\n",
              "│    └─Dropout (0)                                           [1, 1408]            [1, 1408]            --                   --\n",
              "│    └─Linear (1)                                            [1, 1408]            [1, 1000]            1,409,000            True\n",
              "============================================================================================================================================\n",
              "Total params: 9,109,994\n",
              "Trainable params: 9,109,994\n",
              "Non-trainable params: 0\n",
              "Total mult-adds (M): 659.05\n",
              "============================================================================================================================================\n",
              "Input size (MB): 0.60\n",
              "Forward/backward pass size (MB): 156.81\n",
              "Params size (MB): 36.44\n",
              "Estimated Total Size (MB): 193.85\n",
              "============================================================================================================================================"
            ]
          },
          "metadata": {},
          "execution_count": 39
        }
      ]
    },
    {
      "cell_type": "code",
      "source": [
        "for name, param in model.named_parameters():\n",
        "    print(f\"Layer: {name}, Trainable: {param.requires_grad}\")"
      ],
      "metadata": {
        "colab": {
          "base_uri": "https://localhost:8080/"
        },
        "id": "Smwa3eKxSnWy",
        "outputId": "f26aba0b-727e-48d0-93aa-a3bfa12ad981"
      },
      "execution_count": 42,
      "outputs": [
        {
          "output_type": "stream",
          "name": "stdout",
          "text": [
            "Layer: features.0.0.weight, Trainable: True\n",
            "Layer: features.0.1.weight, Trainable: True\n",
            "Layer: features.0.1.bias, Trainable: True\n",
            "Layer: features.1.0.block.0.0.weight, Trainable: True\n",
            "Layer: features.1.0.block.0.1.weight, Trainable: True\n",
            "Layer: features.1.0.block.0.1.bias, Trainable: True\n",
            "Layer: features.1.0.block.1.fc1.weight, Trainable: True\n",
            "Layer: features.1.0.block.1.fc1.bias, Trainable: True\n",
            "Layer: features.1.0.block.1.fc2.weight, Trainable: True\n",
            "Layer: features.1.0.block.1.fc2.bias, Trainable: True\n",
            "Layer: features.1.0.block.2.0.weight, Trainable: True\n",
            "Layer: features.1.0.block.2.1.weight, Trainable: True\n",
            "Layer: features.1.0.block.2.1.bias, Trainable: True\n",
            "Layer: features.1.1.block.0.0.weight, Trainable: True\n",
            "Layer: features.1.1.block.0.1.weight, Trainable: True\n",
            "Layer: features.1.1.block.0.1.bias, Trainable: True\n",
            "Layer: features.1.1.block.1.fc1.weight, Trainable: True\n",
            "Layer: features.1.1.block.1.fc1.bias, Trainable: True\n",
            "Layer: features.1.1.block.1.fc2.weight, Trainable: True\n",
            "Layer: features.1.1.block.1.fc2.bias, Trainable: True\n",
            "Layer: features.1.1.block.2.0.weight, Trainable: True\n",
            "Layer: features.1.1.block.2.1.weight, Trainable: True\n",
            "Layer: features.1.1.block.2.1.bias, Trainable: True\n",
            "Layer: features.2.0.block.0.0.weight, Trainable: True\n",
            "Layer: features.2.0.block.0.1.weight, Trainable: True\n",
            "Layer: features.2.0.block.0.1.bias, Trainable: True\n",
            "Layer: features.2.0.block.1.0.weight, Trainable: True\n",
            "Layer: features.2.0.block.1.1.weight, Trainable: True\n",
            "Layer: features.2.0.block.1.1.bias, Trainable: True\n",
            "Layer: features.2.0.block.2.fc1.weight, Trainable: True\n",
            "Layer: features.2.0.block.2.fc1.bias, Trainable: True\n",
            "Layer: features.2.0.block.2.fc2.weight, Trainable: True\n",
            "Layer: features.2.0.block.2.fc2.bias, Trainable: True\n",
            "Layer: features.2.0.block.3.0.weight, Trainable: True\n",
            "Layer: features.2.0.block.3.1.weight, Trainable: True\n",
            "Layer: features.2.0.block.3.1.bias, Trainable: True\n",
            "Layer: features.2.1.block.0.0.weight, Trainable: True\n",
            "Layer: features.2.1.block.0.1.weight, Trainable: True\n",
            "Layer: features.2.1.block.0.1.bias, Trainable: True\n",
            "Layer: features.2.1.block.1.0.weight, Trainable: True\n",
            "Layer: features.2.1.block.1.1.weight, Trainable: True\n",
            "Layer: features.2.1.block.1.1.bias, Trainable: True\n",
            "Layer: features.2.1.block.2.fc1.weight, Trainable: True\n",
            "Layer: features.2.1.block.2.fc1.bias, Trainable: True\n",
            "Layer: features.2.1.block.2.fc2.weight, Trainable: True\n",
            "Layer: features.2.1.block.2.fc2.bias, Trainable: True\n",
            "Layer: features.2.1.block.3.0.weight, Trainable: True\n",
            "Layer: features.2.1.block.3.1.weight, Trainable: True\n",
            "Layer: features.2.1.block.3.1.bias, Trainable: True\n",
            "Layer: features.2.2.block.0.0.weight, Trainable: True\n",
            "Layer: features.2.2.block.0.1.weight, Trainable: True\n",
            "Layer: features.2.2.block.0.1.bias, Trainable: True\n",
            "Layer: features.2.2.block.1.0.weight, Trainable: True\n",
            "Layer: features.2.2.block.1.1.weight, Trainable: True\n",
            "Layer: features.2.2.block.1.1.bias, Trainable: True\n",
            "Layer: features.2.2.block.2.fc1.weight, Trainable: True\n",
            "Layer: features.2.2.block.2.fc1.bias, Trainable: True\n",
            "Layer: features.2.2.block.2.fc2.weight, Trainable: True\n",
            "Layer: features.2.2.block.2.fc2.bias, Trainable: True\n",
            "Layer: features.2.2.block.3.0.weight, Trainable: True\n",
            "Layer: features.2.2.block.3.1.weight, Trainable: True\n",
            "Layer: features.2.2.block.3.1.bias, Trainable: True\n",
            "Layer: features.3.0.block.0.0.weight, Trainable: True\n",
            "Layer: features.3.0.block.0.1.weight, Trainable: True\n",
            "Layer: features.3.0.block.0.1.bias, Trainable: True\n",
            "Layer: features.3.0.block.1.0.weight, Trainable: True\n",
            "Layer: features.3.0.block.1.1.weight, Trainable: True\n",
            "Layer: features.3.0.block.1.1.bias, Trainable: True\n",
            "Layer: features.3.0.block.2.fc1.weight, Trainable: True\n",
            "Layer: features.3.0.block.2.fc1.bias, Trainable: True\n",
            "Layer: features.3.0.block.2.fc2.weight, Trainable: True\n",
            "Layer: features.3.0.block.2.fc2.bias, Trainable: True\n",
            "Layer: features.3.0.block.3.0.weight, Trainable: True\n",
            "Layer: features.3.0.block.3.1.weight, Trainable: True\n",
            "Layer: features.3.0.block.3.1.bias, Trainable: True\n",
            "Layer: features.3.1.block.0.0.weight, Trainable: True\n",
            "Layer: features.3.1.block.0.1.weight, Trainable: True\n",
            "Layer: features.3.1.block.0.1.bias, Trainable: True\n",
            "Layer: features.3.1.block.1.0.weight, Trainable: True\n",
            "Layer: features.3.1.block.1.1.weight, Trainable: True\n",
            "Layer: features.3.1.block.1.1.bias, Trainable: True\n",
            "Layer: features.3.1.block.2.fc1.weight, Trainable: True\n",
            "Layer: features.3.1.block.2.fc1.bias, Trainable: True\n",
            "Layer: features.3.1.block.2.fc2.weight, Trainable: True\n",
            "Layer: features.3.1.block.2.fc2.bias, Trainable: True\n",
            "Layer: features.3.1.block.3.0.weight, Trainable: True\n",
            "Layer: features.3.1.block.3.1.weight, Trainable: True\n",
            "Layer: features.3.1.block.3.1.bias, Trainable: True\n",
            "Layer: features.3.2.block.0.0.weight, Trainable: True\n",
            "Layer: features.3.2.block.0.1.weight, Trainable: True\n",
            "Layer: features.3.2.block.0.1.bias, Trainable: True\n",
            "Layer: features.3.2.block.1.0.weight, Trainable: True\n",
            "Layer: features.3.2.block.1.1.weight, Trainable: True\n",
            "Layer: features.3.2.block.1.1.bias, Trainable: True\n",
            "Layer: features.3.2.block.2.fc1.weight, Trainable: True\n",
            "Layer: features.3.2.block.2.fc1.bias, Trainable: True\n",
            "Layer: features.3.2.block.2.fc2.weight, Trainable: True\n",
            "Layer: features.3.2.block.2.fc2.bias, Trainable: True\n",
            "Layer: features.3.2.block.3.0.weight, Trainable: True\n",
            "Layer: features.3.2.block.3.1.weight, Trainable: True\n",
            "Layer: features.3.2.block.3.1.bias, Trainable: True\n",
            "Layer: features.4.0.block.0.0.weight, Trainable: True\n",
            "Layer: features.4.0.block.0.1.weight, Trainable: True\n",
            "Layer: features.4.0.block.0.1.bias, Trainable: True\n",
            "Layer: features.4.0.block.1.0.weight, Trainable: True\n",
            "Layer: features.4.0.block.1.1.weight, Trainable: True\n",
            "Layer: features.4.0.block.1.1.bias, Trainable: True\n",
            "Layer: features.4.0.block.2.fc1.weight, Trainable: True\n",
            "Layer: features.4.0.block.2.fc1.bias, Trainable: True\n",
            "Layer: features.4.0.block.2.fc2.weight, Trainable: True\n",
            "Layer: features.4.0.block.2.fc2.bias, Trainable: True\n",
            "Layer: features.4.0.block.3.0.weight, Trainable: True\n",
            "Layer: features.4.0.block.3.1.weight, Trainable: True\n",
            "Layer: features.4.0.block.3.1.bias, Trainable: True\n",
            "Layer: features.4.1.block.0.0.weight, Trainable: True\n",
            "Layer: features.4.1.block.0.1.weight, Trainable: True\n",
            "Layer: features.4.1.block.0.1.bias, Trainable: True\n",
            "Layer: features.4.1.block.1.0.weight, Trainable: True\n",
            "Layer: features.4.1.block.1.1.weight, Trainable: True\n",
            "Layer: features.4.1.block.1.1.bias, Trainable: True\n",
            "Layer: features.4.1.block.2.fc1.weight, Trainable: True\n",
            "Layer: features.4.1.block.2.fc1.bias, Trainable: True\n",
            "Layer: features.4.1.block.2.fc2.weight, Trainable: True\n",
            "Layer: features.4.1.block.2.fc2.bias, Trainable: True\n",
            "Layer: features.4.1.block.3.0.weight, Trainable: True\n",
            "Layer: features.4.1.block.3.1.weight, Trainable: True\n",
            "Layer: features.4.1.block.3.1.bias, Trainable: True\n",
            "Layer: features.4.2.block.0.0.weight, Trainable: True\n",
            "Layer: features.4.2.block.0.1.weight, Trainable: True\n",
            "Layer: features.4.2.block.0.1.bias, Trainable: True\n",
            "Layer: features.4.2.block.1.0.weight, Trainable: True\n",
            "Layer: features.4.2.block.1.1.weight, Trainable: True\n",
            "Layer: features.4.2.block.1.1.bias, Trainable: True\n",
            "Layer: features.4.2.block.2.fc1.weight, Trainable: True\n",
            "Layer: features.4.2.block.2.fc1.bias, Trainable: True\n",
            "Layer: features.4.2.block.2.fc2.weight, Trainable: True\n",
            "Layer: features.4.2.block.2.fc2.bias, Trainable: True\n",
            "Layer: features.4.2.block.3.0.weight, Trainable: True\n",
            "Layer: features.4.2.block.3.1.weight, Trainable: True\n",
            "Layer: features.4.2.block.3.1.bias, Trainable: True\n",
            "Layer: features.4.3.block.0.0.weight, Trainable: True\n",
            "Layer: features.4.3.block.0.1.weight, Trainable: True\n",
            "Layer: features.4.3.block.0.1.bias, Trainable: True\n",
            "Layer: features.4.3.block.1.0.weight, Trainable: True\n",
            "Layer: features.4.3.block.1.1.weight, Trainable: True\n",
            "Layer: features.4.3.block.1.1.bias, Trainable: True\n",
            "Layer: features.4.3.block.2.fc1.weight, Trainable: True\n",
            "Layer: features.4.3.block.2.fc1.bias, Trainable: True\n",
            "Layer: features.4.3.block.2.fc2.weight, Trainable: True\n",
            "Layer: features.4.3.block.2.fc2.bias, Trainable: True\n",
            "Layer: features.4.3.block.3.0.weight, Trainable: True\n",
            "Layer: features.4.3.block.3.1.weight, Trainable: True\n",
            "Layer: features.4.3.block.3.1.bias, Trainable: True\n",
            "Layer: features.5.0.block.0.0.weight, Trainable: True\n",
            "Layer: features.5.0.block.0.1.weight, Trainable: True\n",
            "Layer: features.5.0.block.0.1.bias, Trainable: True\n",
            "Layer: features.5.0.block.1.0.weight, Trainable: True\n",
            "Layer: features.5.0.block.1.1.weight, Trainable: True\n",
            "Layer: features.5.0.block.1.1.bias, Trainable: True\n",
            "Layer: features.5.0.block.2.fc1.weight, Trainable: True\n",
            "Layer: features.5.0.block.2.fc1.bias, Trainable: True\n",
            "Layer: features.5.0.block.2.fc2.weight, Trainable: True\n",
            "Layer: features.5.0.block.2.fc2.bias, Trainable: True\n",
            "Layer: features.5.0.block.3.0.weight, Trainable: True\n",
            "Layer: features.5.0.block.3.1.weight, Trainable: True\n",
            "Layer: features.5.0.block.3.1.bias, Trainable: True\n",
            "Layer: features.5.1.block.0.0.weight, Trainable: True\n",
            "Layer: features.5.1.block.0.1.weight, Trainable: True\n",
            "Layer: features.5.1.block.0.1.bias, Trainable: True\n",
            "Layer: features.5.1.block.1.0.weight, Trainable: True\n",
            "Layer: features.5.1.block.1.1.weight, Trainable: True\n",
            "Layer: features.5.1.block.1.1.bias, Trainable: True\n",
            "Layer: features.5.1.block.2.fc1.weight, Trainable: True\n",
            "Layer: features.5.1.block.2.fc1.bias, Trainable: True\n",
            "Layer: features.5.1.block.2.fc2.weight, Trainable: True\n",
            "Layer: features.5.1.block.2.fc2.bias, Trainable: True\n",
            "Layer: features.5.1.block.3.0.weight, Trainable: True\n",
            "Layer: features.5.1.block.3.1.weight, Trainable: True\n",
            "Layer: features.5.1.block.3.1.bias, Trainable: True\n",
            "Layer: features.5.2.block.0.0.weight, Trainable: True\n",
            "Layer: features.5.2.block.0.1.weight, Trainable: True\n",
            "Layer: features.5.2.block.0.1.bias, Trainable: True\n",
            "Layer: features.5.2.block.1.0.weight, Trainable: True\n",
            "Layer: features.5.2.block.1.1.weight, Trainable: True\n",
            "Layer: features.5.2.block.1.1.bias, Trainable: True\n",
            "Layer: features.5.2.block.2.fc1.weight, Trainable: True\n",
            "Layer: features.5.2.block.2.fc1.bias, Trainable: True\n",
            "Layer: features.5.2.block.2.fc2.weight, Trainable: True\n",
            "Layer: features.5.2.block.2.fc2.bias, Trainable: True\n",
            "Layer: features.5.2.block.3.0.weight, Trainable: True\n",
            "Layer: features.5.2.block.3.1.weight, Trainable: True\n",
            "Layer: features.5.2.block.3.1.bias, Trainable: True\n",
            "Layer: features.5.3.block.0.0.weight, Trainable: True\n",
            "Layer: features.5.3.block.0.1.weight, Trainable: True\n",
            "Layer: features.5.3.block.0.1.bias, Trainable: True\n",
            "Layer: features.5.3.block.1.0.weight, Trainable: True\n",
            "Layer: features.5.3.block.1.1.weight, Trainable: True\n",
            "Layer: features.5.3.block.1.1.bias, Trainable: True\n",
            "Layer: features.5.3.block.2.fc1.weight, Trainable: True\n",
            "Layer: features.5.3.block.2.fc1.bias, Trainable: True\n",
            "Layer: features.5.3.block.2.fc2.weight, Trainable: True\n",
            "Layer: features.5.3.block.2.fc2.bias, Trainable: True\n",
            "Layer: features.5.3.block.3.0.weight, Trainable: True\n",
            "Layer: features.5.3.block.3.1.weight, Trainable: True\n",
            "Layer: features.5.3.block.3.1.bias, Trainable: True\n",
            "Layer: features.6.0.block.0.0.weight, Trainable: True\n",
            "Layer: features.6.0.block.0.1.weight, Trainable: True\n",
            "Layer: features.6.0.block.0.1.bias, Trainable: True\n",
            "Layer: features.6.0.block.1.0.weight, Trainable: True\n",
            "Layer: features.6.0.block.1.1.weight, Trainable: True\n",
            "Layer: features.6.0.block.1.1.bias, Trainable: True\n",
            "Layer: features.6.0.block.2.fc1.weight, Trainable: True\n",
            "Layer: features.6.0.block.2.fc1.bias, Trainable: True\n",
            "Layer: features.6.0.block.2.fc2.weight, Trainable: True\n",
            "Layer: features.6.0.block.2.fc2.bias, Trainable: True\n",
            "Layer: features.6.0.block.3.0.weight, Trainable: True\n",
            "Layer: features.6.0.block.3.1.weight, Trainable: True\n",
            "Layer: features.6.0.block.3.1.bias, Trainable: True\n",
            "Layer: features.6.1.block.0.0.weight, Trainable: True\n",
            "Layer: features.6.1.block.0.1.weight, Trainable: True\n",
            "Layer: features.6.1.block.0.1.bias, Trainable: True\n",
            "Layer: features.6.1.block.1.0.weight, Trainable: True\n",
            "Layer: features.6.1.block.1.1.weight, Trainable: True\n",
            "Layer: features.6.1.block.1.1.bias, Trainable: True\n",
            "Layer: features.6.1.block.2.fc1.weight, Trainable: True\n",
            "Layer: features.6.1.block.2.fc1.bias, Trainable: True\n",
            "Layer: features.6.1.block.2.fc2.weight, Trainable: True\n",
            "Layer: features.6.1.block.2.fc2.bias, Trainable: True\n",
            "Layer: features.6.1.block.3.0.weight, Trainable: True\n",
            "Layer: features.6.1.block.3.1.weight, Trainable: True\n",
            "Layer: features.6.1.block.3.1.bias, Trainable: True\n",
            "Layer: features.6.2.block.0.0.weight, Trainable: True\n",
            "Layer: features.6.2.block.0.1.weight, Trainable: True\n",
            "Layer: features.6.2.block.0.1.bias, Trainable: True\n",
            "Layer: features.6.2.block.1.0.weight, Trainable: True\n",
            "Layer: features.6.2.block.1.1.weight, Trainable: True\n",
            "Layer: features.6.2.block.1.1.bias, Trainable: True\n",
            "Layer: features.6.2.block.2.fc1.weight, Trainable: True\n",
            "Layer: features.6.2.block.2.fc1.bias, Trainable: True\n",
            "Layer: features.6.2.block.2.fc2.weight, Trainable: True\n",
            "Layer: features.6.2.block.2.fc2.bias, Trainable: True\n",
            "Layer: features.6.2.block.3.0.weight, Trainable: True\n",
            "Layer: features.6.2.block.3.1.weight, Trainable: True\n",
            "Layer: features.6.2.block.3.1.bias, Trainable: True\n",
            "Layer: features.6.3.block.0.0.weight, Trainable: True\n",
            "Layer: features.6.3.block.0.1.weight, Trainable: True\n",
            "Layer: features.6.3.block.0.1.bias, Trainable: True\n",
            "Layer: features.6.3.block.1.0.weight, Trainable: True\n",
            "Layer: features.6.3.block.1.1.weight, Trainable: True\n",
            "Layer: features.6.3.block.1.1.bias, Trainable: True\n",
            "Layer: features.6.3.block.2.fc1.weight, Trainable: True\n",
            "Layer: features.6.3.block.2.fc1.bias, Trainable: True\n",
            "Layer: features.6.3.block.2.fc2.weight, Trainable: True\n",
            "Layer: features.6.3.block.2.fc2.bias, Trainable: True\n",
            "Layer: features.6.3.block.3.0.weight, Trainable: True\n",
            "Layer: features.6.3.block.3.1.weight, Trainable: True\n",
            "Layer: features.6.3.block.3.1.bias, Trainable: True\n",
            "Layer: features.6.4.block.0.0.weight, Trainable: True\n",
            "Layer: features.6.4.block.0.1.weight, Trainable: True\n",
            "Layer: features.6.4.block.0.1.bias, Trainable: True\n",
            "Layer: features.6.4.block.1.0.weight, Trainable: True\n",
            "Layer: features.6.4.block.1.1.weight, Trainable: True\n",
            "Layer: features.6.4.block.1.1.bias, Trainable: True\n",
            "Layer: features.6.4.block.2.fc1.weight, Trainable: True\n",
            "Layer: features.6.4.block.2.fc1.bias, Trainable: True\n",
            "Layer: features.6.4.block.2.fc2.weight, Trainable: True\n",
            "Layer: features.6.4.block.2.fc2.bias, Trainable: True\n",
            "Layer: features.6.4.block.3.0.weight, Trainable: True\n",
            "Layer: features.6.4.block.3.1.weight, Trainable: True\n",
            "Layer: features.6.4.block.3.1.bias, Trainable: True\n",
            "Layer: features.7.0.block.0.0.weight, Trainable: True\n",
            "Layer: features.7.0.block.0.1.weight, Trainable: True\n",
            "Layer: features.7.0.block.0.1.bias, Trainable: True\n",
            "Layer: features.7.0.block.1.0.weight, Trainable: True\n",
            "Layer: features.7.0.block.1.1.weight, Trainable: True\n",
            "Layer: features.7.0.block.1.1.bias, Trainable: True\n",
            "Layer: features.7.0.block.2.fc1.weight, Trainable: True\n",
            "Layer: features.7.0.block.2.fc1.bias, Trainable: True\n",
            "Layer: features.7.0.block.2.fc2.weight, Trainable: True\n",
            "Layer: features.7.0.block.2.fc2.bias, Trainable: True\n",
            "Layer: features.7.0.block.3.0.weight, Trainable: True\n",
            "Layer: features.7.0.block.3.1.weight, Trainable: True\n",
            "Layer: features.7.0.block.3.1.bias, Trainable: True\n",
            "Layer: features.7.1.block.0.0.weight, Trainable: True\n",
            "Layer: features.7.1.block.0.1.weight, Trainable: True\n",
            "Layer: features.7.1.block.0.1.bias, Trainable: True\n",
            "Layer: features.7.1.block.1.0.weight, Trainable: True\n",
            "Layer: features.7.1.block.1.1.weight, Trainable: True\n",
            "Layer: features.7.1.block.1.1.bias, Trainable: True\n",
            "Layer: features.7.1.block.2.fc1.weight, Trainable: True\n",
            "Layer: features.7.1.block.2.fc1.bias, Trainable: True\n",
            "Layer: features.7.1.block.2.fc2.weight, Trainable: True\n",
            "Layer: features.7.1.block.2.fc2.bias, Trainable: True\n",
            "Layer: features.7.1.block.3.0.weight, Trainable: True\n",
            "Layer: features.7.1.block.3.1.weight, Trainable: True\n",
            "Layer: features.7.1.block.3.1.bias, Trainable: True\n",
            "Layer: features.8.0.weight, Trainable: True\n",
            "Layer: features.8.1.weight, Trainable: True\n",
            "Layer: features.8.1.bias, Trainable: True\n",
            "Layer: classifier.1.weight, Trainable: True\n",
            "Layer: classifier.1.bias, Trainable: True\n"
          ]
        }
      ]
    },
    {
      "cell_type": "code",
      "source": [
        "for param in model.parameters():\n",
        "    param.requires_grad = False"
      ],
      "metadata": {
        "id": "Be-Va_IyRmjF"
      },
      "execution_count": 43,
      "outputs": []
    },
    {
      "cell_type": "code",
      "source": [
        "model.classifier = nn.Sequential(\n",
        "    nn.Dropout(p=0.3, inplace=True),\n",
        "    nn.Linear(in_features=1408, out_features=101),\n",
        ")"
      ],
      "metadata": {
        "id": "59YWadI-RrVw"
      },
      "execution_count": 44,
      "outputs": []
    },
    {
      "cell_type": "code",
      "source": [
        "summary(model,\n",
        "        input_size=(1, 3, 224, 224),\n",
        "        col_names=[\"input_size\", \"output_size\", \"num_params\", \"trainable\"],\n",
        "        col_width=20,\n",
        "        row_settings=[\"var_names\"])"
      ],
      "metadata": {
        "colab": {
          "base_uri": "https://localhost:8080/"
        },
        "id": "dIQ4MBi0Rv46",
        "outputId": "60730ce2-b9ab-4356-f3d9-ccfdce8fe812"
      },
      "execution_count": 45,
      "outputs": [
        {
          "output_type": "execute_result",
          "data": {
            "text/plain": [
              "============================================================================================================================================\n",
              "Layer (type (var_name))                                      Input Shape          Output Shape         Param #              Trainable\n",
              "============================================================================================================================================\n",
              "EfficientNet (EfficientNet)                                  [1, 3, 224, 224]     [1, 101]             --                   Partial\n",
              "├─Sequential (features)                                      [1, 3, 224, 224]     [1, 1408, 7, 7]      --                   False\n",
              "│    └─Conv2dNormActivation (0)                              [1, 3, 224, 224]     [1, 32, 112, 112]    --                   False\n",
              "│    │    └─Conv2d (0)                                       [1, 3, 224, 224]     [1, 32, 112, 112]    (864)                False\n",
              "│    │    └─BatchNorm2d (1)                                  [1, 32, 112, 112]    [1, 32, 112, 112]    (64)                 False\n",
              "│    │    └─SiLU (2)                                         [1, 32, 112, 112]    [1, 32, 112, 112]    --                   --\n",
              "│    └─Sequential (1)                                        [1, 32, 112, 112]    [1, 16, 112, 112]    --                   False\n",
              "│    │    └─MBConv (0)                                       [1, 32, 112, 112]    [1, 16, 112, 112]    (1,448)              False\n",
              "│    │    └─MBConv (1)                                       [1, 16, 112, 112]    [1, 16, 112, 112]    (612)                False\n",
              "│    └─Sequential (2)                                        [1, 16, 112, 112]    [1, 24, 56, 56]      --                   False\n",
              "│    │    └─MBConv (0)                                       [1, 16, 112, 112]    [1, 24, 56, 56]      (6,004)              False\n",
              "│    │    └─MBConv (1)                                       [1, 24, 56, 56]      [1, 24, 56, 56]      (10,710)             False\n",
              "│    │    └─MBConv (2)                                       [1, 24, 56, 56]      [1, 24, 56, 56]      (10,710)             False\n",
              "│    └─Sequential (3)                                        [1, 24, 56, 56]      [1, 48, 28, 28]      --                   False\n",
              "│    │    └─MBConv (0)                                       [1, 24, 56, 56]      [1, 48, 28, 28]      (16,518)             False\n",
              "│    │    └─MBConv (1)                                       [1, 48, 28, 28]      [1, 48, 28, 28]      (43,308)             False\n",
              "│    │    └─MBConv (2)                                       [1, 48, 28, 28]      [1, 48, 28, 28]      (43,308)             False\n",
              "│    └─Sequential (4)                                        [1, 48, 28, 28]      [1, 88, 14, 14]      --                   False\n",
              "│    │    └─MBConv (0)                                       [1, 48, 28, 28]      [1, 88, 14, 14]      (50,300)             False\n",
              "│    │    └─MBConv (1)                                       [1, 88, 14, 14]      [1, 88, 14, 14]      (123,750)            False\n",
              "│    │    └─MBConv (2)                                       [1, 88, 14, 14]      [1, 88, 14, 14]      (123,750)            False\n",
              "│    │    └─MBConv (3)                                       [1, 88, 14, 14]      [1, 88, 14, 14]      (123,750)            False\n",
              "│    └─Sequential (5)                                        [1, 88, 14, 14]      [1, 120, 14, 14]     --                   False\n",
              "│    │    └─MBConv (0)                                       [1, 88, 14, 14]      [1, 120, 14, 14]     (149,158)            False\n",
              "│    │    └─MBConv (1)                                       [1, 120, 14, 14]     [1, 120, 14, 14]     (237,870)            False\n",
              "│    │    └─MBConv (2)                                       [1, 120, 14, 14]     [1, 120, 14, 14]     (237,870)            False\n",
              "│    │    └─MBConv (3)                                       [1, 120, 14, 14]     [1, 120, 14, 14]     (237,870)            False\n",
              "│    └─Sequential (6)                                        [1, 120, 14, 14]     [1, 208, 7, 7]       --                   False\n",
              "│    │    └─MBConv (0)                                       [1, 120, 14, 14]     [1, 208, 7, 7]       (301,406)            False\n",
              "│    │    └─MBConv (1)                                       [1, 208, 7, 7]       [1, 208, 7, 7]       (686,868)            False\n",
              "│    │    └─MBConv (2)                                       [1, 208, 7, 7]       [1, 208, 7, 7]       (686,868)            False\n",
              "│    │    └─MBConv (3)                                       [1, 208, 7, 7]       [1, 208, 7, 7]       (686,868)            False\n",
              "│    │    └─MBConv (4)                                       [1, 208, 7, 7]       [1, 208, 7, 7]       (686,868)            False\n",
              "│    └─Sequential (7)                                        [1, 208, 7, 7]       [1, 352, 7, 7]       --                   False\n",
              "│    │    └─MBConv (0)                                       [1, 208, 7, 7]       [1, 352, 7, 7]       (846,900)            False\n",
              "│    │    └─MBConv (1)                                       [1, 352, 7, 7]       [1, 352, 7, 7]       (1,888,920)          False\n",
              "│    └─Conv2dNormActivation (8)                              [1, 352, 7, 7]       [1, 1408, 7, 7]      --                   False\n",
              "│    │    └─Conv2d (0)                                       [1, 352, 7, 7]       [1, 1408, 7, 7]      (495,616)            False\n",
              "│    │    └─BatchNorm2d (1)                                  [1, 1408, 7, 7]      [1, 1408, 7, 7]      (2,816)              False\n",
              "│    │    └─SiLU (2)                                         [1, 1408, 7, 7]      [1, 1408, 7, 7]      --                   --\n",
              "├─AdaptiveAvgPool2d (avgpool)                                [1, 1408, 7, 7]      [1, 1408, 1, 1]      --                   --\n",
              "├─Sequential (classifier)                                    [1, 1408]            [1, 101]             --                   True\n",
              "│    └─Dropout (0)                                           [1, 1408]            [1, 1408]            --                   --\n",
              "│    └─Linear (1)                                            [1, 1408]            [1, 101]             142,309              True\n",
              "============================================================================================================================================\n",
              "Total params: 7,843,303\n",
              "Trainable params: 142,309\n",
              "Non-trainable params: 7,700,994\n",
              "Total mult-adds (M): 657.78\n",
              "============================================================================================================================================\n",
              "Input size (MB): 0.60\n",
              "Forward/backward pass size (MB): 156.80\n",
              "Params size (MB): 31.37\n",
              "Estimated Total Size (MB): 188.77\n",
              "============================================================================================================================================"
            ]
          },
          "metadata": {},
          "execution_count": 45
        }
      ]
    },
    {
      "cell_type": "code",
      "source": [
        "for name, param in model.named_parameters():\n",
        "    print(f\"Layer: {name}, Trainable: {param.requires_grad}\")"
      ],
      "metadata": {
        "colab": {
          "base_uri": "https://localhost:8080/"
        },
        "id": "b3IYMQDtSutB",
        "outputId": "f2000e82-d365-492b-9b67-61a94ee2e0f3"
      },
      "execution_count": 46,
      "outputs": [
        {
          "output_type": "stream",
          "name": "stdout",
          "text": [
            "Layer: features.0.0.weight, Trainable: False\n",
            "Layer: features.0.1.weight, Trainable: False\n",
            "Layer: features.0.1.bias, Trainable: False\n",
            "Layer: features.1.0.block.0.0.weight, Trainable: False\n",
            "Layer: features.1.0.block.0.1.weight, Trainable: False\n",
            "Layer: features.1.0.block.0.1.bias, Trainable: False\n",
            "Layer: features.1.0.block.1.fc1.weight, Trainable: False\n",
            "Layer: features.1.0.block.1.fc1.bias, Trainable: False\n",
            "Layer: features.1.0.block.1.fc2.weight, Trainable: False\n",
            "Layer: features.1.0.block.1.fc2.bias, Trainable: False\n",
            "Layer: features.1.0.block.2.0.weight, Trainable: False\n",
            "Layer: features.1.0.block.2.1.weight, Trainable: False\n",
            "Layer: features.1.0.block.2.1.bias, Trainable: False\n",
            "Layer: features.1.1.block.0.0.weight, Trainable: False\n",
            "Layer: features.1.1.block.0.1.weight, Trainable: False\n",
            "Layer: features.1.1.block.0.1.bias, Trainable: False\n",
            "Layer: features.1.1.block.1.fc1.weight, Trainable: False\n",
            "Layer: features.1.1.block.1.fc1.bias, Trainable: False\n",
            "Layer: features.1.1.block.1.fc2.weight, Trainable: False\n",
            "Layer: features.1.1.block.1.fc2.bias, Trainable: False\n",
            "Layer: features.1.1.block.2.0.weight, Trainable: False\n",
            "Layer: features.1.1.block.2.1.weight, Trainable: False\n",
            "Layer: features.1.1.block.2.1.bias, Trainable: False\n",
            "Layer: features.2.0.block.0.0.weight, Trainable: False\n",
            "Layer: features.2.0.block.0.1.weight, Trainable: False\n",
            "Layer: features.2.0.block.0.1.bias, Trainable: False\n",
            "Layer: features.2.0.block.1.0.weight, Trainable: False\n",
            "Layer: features.2.0.block.1.1.weight, Trainable: False\n",
            "Layer: features.2.0.block.1.1.bias, Trainable: False\n",
            "Layer: features.2.0.block.2.fc1.weight, Trainable: False\n",
            "Layer: features.2.0.block.2.fc1.bias, Trainable: False\n",
            "Layer: features.2.0.block.2.fc2.weight, Trainable: False\n",
            "Layer: features.2.0.block.2.fc2.bias, Trainable: False\n",
            "Layer: features.2.0.block.3.0.weight, Trainable: False\n",
            "Layer: features.2.0.block.3.1.weight, Trainable: False\n",
            "Layer: features.2.0.block.3.1.bias, Trainable: False\n",
            "Layer: features.2.1.block.0.0.weight, Trainable: False\n",
            "Layer: features.2.1.block.0.1.weight, Trainable: False\n",
            "Layer: features.2.1.block.0.1.bias, Trainable: False\n",
            "Layer: features.2.1.block.1.0.weight, Trainable: False\n",
            "Layer: features.2.1.block.1.1.weight, Trainable: False\n",
            "Layer: features.2.1.block.1.1.bias, Trainable: False\n",
            "Layer: features.2.1.block.2.fc1.weight, Trainable: False\n",
            "Layer: features.2.1.block.2.fc1.bias, Trainable: False\n",
            "Layer: features.2.1.block.2.fc2.weight, Trainable: False\n",
            "Layer: features.2.1.block.2.fc2.bias, Trainable: False\n",
            "Layer: features.2.1.block.3.0.weight, Trainable: False\n",
            "Layer: features.2.1.block.3.1.weight, Trainable: False\n",
            "Layer: features.2.1.block.3.1.bias, Trainable: False\n",
            "Layer: features.2.2.block.0.0.weight, Trainable: False\n",
            "Layer: features.2.2.block.0.1.weight, Trainable: False\n",
            "Layer: features.2.2.block.0.1.bias, Trainable: False\n",
            "Layer: features.2.2.block.1.0.weight, Trainable: False\n",
            "Layer: features.2.2.block.1.1.weight, Trainable: False\n",
            "Layer: features.2.2.block.1.1.bias, Trainable: False\n",
            "Layer: features.2.2.block.2.fc1.weight, Trainable: False\n",
            "Layer: features.2.2.block.2.fc1.bias, Trainable: False\n",
            "Layer: features.2.2.block.2.fc2.weight, Trainable: False\n",
            "Layer: features.2.2.block.2.fc2.bias, Trainable: False\n",
            "Layer: features.2.2.block.3.0.weight, Trainable: False\n",
            "Layer: features.2.2.block.3.1.weight, Trainable: False\n",
            "Layer: features.2.2.block.3.1.bias, Trainable: False\n",
            "Layer: features.3.0.block.0.0.weight, Trainable: False\n",
            "Layer: features.3.0.block.0.1.weight, Trainable: False\n",
            "Layer: features.3.0.block.0.1.bias, Trainable: False\n",
            "Layer: features.3.0.block.1.0.weight, Trainable: False\n",
            "Layer: features.3.0.block.1.1.weight, Trainable: False\n",
            "Layer: features.3.0.block.1.1.bias, Trainable: False\n",
            "Layer: features.3.0.block.2.fc1.weight, Trainable: False\n",
            "Layer: features.3.0.block.2.fc1.bias, Trainable: False\n",
            "Layer: features.3.0.block.2.fc2.weight, Trainable: False\n",
            "Layer: features.3.0.block.2.fc2.bias, Trainable: False\n",
            "Layer: features.3.0.block.3.0.weight, Trainable: False\n",
            "Layer: features.3.0.block.3.1.weight, Trainable: False\n",
            "Layer: features.3.0.block.3.1.bias, Trainable: False\n",
            "Layer: features.3.1.block.0.0.weight, Trainable: False\n",
            "Layer: features.3.1.block.0.1.weight, Trainable: False\n",
            "Layer: features.3.1.block.0.1.bias, Trainable: False\n",
            "Layer: features.3.1.block.1.0.weight, Trainable: False\n",
            "Layer: features.3.1.block.1.1.weight, Trainable: False\n",
            "Layer: features.3.1.block.1.1.bias, Trainable: False\n",
            "Layer: features.3.1.block.2.fc1.weight, Trainable: False\n",
            "Layer: features.3.1.block.2.fc1.bias, Trainable: False\n",
            "Layer: features.3.1.block.2.fc2.weight, Trainable: False\n",
            "Layer: features.3.1.block.2.fc2.bias, Trainable: False\n",
            "Layer: features.3.1.block.3.0.weight, Trainable: False\n",
            "Layer: features.3.1.block.3.1.weight, Trainable: False\n",
            "Layer: features.3.1.block.3.1.bias, Trainable: False\n",
            "Layer: features.3.2.block.0.0.weight, Trainable: False\n",
            "Layer: features.3.2.block.0.1.weight, Trainable: False\n",
            "Layer: features.3.2.block.0.1.bias, Trainable: False\n",
            "Layer: features.3.2.block.1.0.weight, Trainable: False\n",
            "Layer: features.3.2.block.1.1.weight, Trainable: False\n",
            "Layer: features.3.2.block.1.1.bias, Trainable: False\n",
            "Layer: features.3.2.block.2.fc1.weight, Trainable: False\n",
            "Layer: features.3.2.block.2.fc1.bias, Trainable: False\n",
            "Layer: features.3.2.block.2.fc2.weight, Trainable: False\n",
            "Layer: features.3.2.block.2.fc2.bias, Trainable: False\n",
            "Layer: features.3.2.block.3.0.weight, Trainable: False\n",
            "Layer: features.3.2.block.3.1.weight, Trainable: False\n",
            "Layer: features.3.2.block.3.1.bias, Trainable: False\n",
            "Layer: features.4.0.block.0.0.weight, Trainable: False\n",
            "Layer: features.4.0.block.0.1.weight, Trainable: False\n",
            "Layer: features.4.0.block.0.1.bias, Trainable: False\n",
            "Layer: features.4.0.block.1.0.weight, Trainable: False\n",
            "Layer: features.4.0.block.1.1.weight, Trainable: False\n",
            "Layer: features.4.0.block.1.1.bias, Trainable: False\n",
            "Layer: features.4.0.block.2.fc1.weight, Trainable: False\n",
            "Layer: features.4.0.block.2.fc1.bias, Trainable: False\n",
            "Layer: features.4.0.block.2.fc2.weight, Trainable: False\n",
            "Layer: features.4.0.block.2.fc2.bias, Trainable: False\n",
            "Layer: features.4.0.block.3.0.weight, Trainable: False\n",
            "Layer: features.4.0.block.3.1.weight, Trainable: False\n",
            "Layer: features.4.0.block.3.1.bias, Trainable: False\n",
            "Layer: features.4.1.block.0.0.weight, Trainable: False\n",
            "Layer: features.4.1.block.0.1.weight, Trainable: False\n",
            "Layer: features.4.1.block.0.1.bias, Trainable: False\n",
            "Layer: features.4.1.block.1.0.weight, Trainable: False\n",
            "Layer: features.4.1.block.1.1.weight, Trainable: False\n",
            "Layer: features.4.1.block.1.1.bias, Trainable: False\n",
            "Layer: features.4.1.block.2.fc1.weight, Trainable: False\n",
            "Layer: features.4.1.block.2.fc1.bias, Trainable: False\n",
            "Layer: features.4.1.block.2.fc2.weight, Trainable: False\n",
            "Layer: features.4.1.block.2.fc2.bias, Trainable: False\n",
            "Layer: features.4.1.block.3.0.weight, Trainable: False\n",
            "Layer: features.4.1.block.3.1.weight, Trainable: False\n",
            "Layer: features.4.1.block.3.1.bias, Trainable: False\n",
            "Layer: features.4.2.block.0.0.weight, Trainable: False\n",
            "Layer: features.4.2.block.0.1.weight, Trainable: False\n",
            "Layer: features.4.2.block.0.1.bias, Trainable: False\n",
            "Layer: features.4.2.block.1.0.weight, Trainable: False\n",
            "Layer: features.4.2.block.1.1.weight, Trainable: False\n",
            "Layer: features.4.2.block.1.1.bias, Trainable: False\n",
            "Layer: features.4.2.block.2.fc1.weight, Trainable: False\n",
            "Layer: features.4.2.block.2.fc1.bias, Trainable: False\n",
            "Layer: features.4.2.block.2.fc2.weight, Trainable: False\n",
            "Layer: features.4.2.block.2.fc2.bias, Trainable: False\n",
            "Layer: features.4.2.block.3.0.weight, Trainable: False\n",
            "Layer: features.4.2.block.3.1.weight, Trainable: False\n",
            "Layer: features.4.2.block.3.1.bias, Trainable: False\n",
            "Layer: features.4.3.block.0.0.weight, Trainable: False\n",
            "Layer: features.4.3.block.0.1.weight, Trainable: False\n",
            "Layer: features.4.3.block.0.1.bias, Trainable: False\n",
            "Layer: features.4.3.block.1.0.weight, Trainable: False\n",
            "Layer: features.4.3.block.1.1.weight, Trainable: False\n",
            "Layer: features.4.3.block.1.1.bias, Trainable: False\n",
            "Layer: features.4.3.block.2.fc1.weight, Trainable: False\n",
            "Layer: features.4.3.block.2.fc1.bias, Trainable: False\n",
            "Layer: features.4.3.block.2.fc2.weight, Trainable: False\n",
            "Layer: features.4.3.block.2.fc2.bias, Trainable: False\n",
            "Layer: features.4.3.block.3.0.weight, Trainable: False\n",
            "Layer: features.4.3.block.3.1.weight, Trainable: False\n",
            "Layer: features.4.3.block.3.1.bias, Trainable: False\n",
            "Layer: features.5.0.block.0.0.weight, Trainable: False\n",
            "Layer: features.5.0.block.0.1.weight, Trainable: False\n",
            "Layer: features.5.0.block.0.1.bias, Trainable: False\n",
            "Layer: features.5.0.block.1.0.weight, Trainable: False\n",
            "Layer: features.5.0.block.1.1.weight, Trainable: False\n",
            "Layer: features.5.0.block.1.1.bias, Trainable: False\n",
            "Layer: features.5.0.block.2.fc1.weight, Trainable: False\n",
            "Layer: features.5.0.block.2.fc1.bias, Trainable: False\n",
            "Layer: features.5.0.block.2.fc2.weight, Trainable: False\n",
            "Layer: features.5.0.block.2.fc2.bias, Trainable: False\n",
            "Layer: features.5.0.block.3.0.weight, Trainable: False\n",
            "Layer: features.5.0.block.3.1.weight, Trainable: False\n",
            "Layer: features.5.0.block.3.1.bias, Trainable: False\n",
            "Layer: features.5.1.block.0.0.weight, Trainable: False\n",
            "Layer: features.5.1.block.0.1.weight, Trainable: False\n",
            "Layer: features.5.1.block.0.1.bias, Trainable: False\n",
            "Layer: features.5.1.block.1.0.weight, Trainable: False\n",
            "Layer: features.5.1.block.1.1.weight, Trainable: False\n",
            "Layer: features.5.1.block.1.1.bias, Trainable: False\n",
            "Layer: features.5.1.block.2.fc1.weight, Trainable: False\n",
            "Layer: features.5.1.block.2.fc1.bias, Trainable: False\n",
            "Layer: features.5.1.block.2.fc2.weight, Trainable: False\n",
            "Layer: features.5.1.block.2.fc2.bias, Trainable: False\n",
            "Layer: features.5.1.block.3.0.weight, Trainable: False\n",
            "Layer: features.5.1.block.3.1.weight, Trainable: False\n",
            "Layer: features.5.1.block.3.1.bias, Trainable: False\n",
            "Layer: features.5.2.block.0.0.weight, Trainable: False\n",
            "Layer: features.5.2.block.0.1.weight, Trainable: False\n",
            "Layer: features.5.2.block.0.1.bias, Trainable: False\n",
            "Layer: features.5.2.block.1.0.weight, Trainable: False\n",
            "Layer: features.5.2.block.1.1.weight, Trainable: False\n",
            "Layer: features.5.2.block.1.1.bias, Trainable: False\n",
            "Layer: features.5.2.block.2.fc1.weight, Trainable: False\n",
            "Layer: features.5.2.block.2.fc1.bias, Trainable: False\n",
            "Layer: features.5.2.block.2.fc2.weight, Trainable: False\n",
            "Layer: features.5.2.block.2.fc2.bias, Trainable: False\n",
            "Layer: features.5.2.block.3.0.weight, Trainable: False\n",
            "Layer: features.5.2.block.3.1.weight, Trainable: False\n",
            "Layer: features.5.2.block.3.1.bias, Trainable: False\n",
            "Layer: features.5.3.block.0.0.weight, Trainable: False\n",
            "Layer: features.5.3.block.0.1.weight, Trainable: False\n",
            "Layer: features.5.3.block.0.1.bias, Trainable: False\n",
            "Layer: features.5.3.block.1.0.weight, Trainable: False\n",
            "Layer: features.5.3.block.1.1.weight, Trainable: False\n",
            "Layer: features.5.3.block.1.1.bias, Trainable: False\n",
            "Layer: features.5.3.block.2.fc1.weight, Trainable: False\n",
            "Layer: features.5.3.block.2.fc1.bias, Trainable: False\n",
            "Layer: features.5.3.block.2.fc2.weight, Trainable: False\n",
            "Layer: features.5.3.block.2.fc2.bias, Trainable: False\n",
            "Layer: features.5.3.block.3.0.weight, Trainable: False\n",
            "Layer: features.5.3.block.3.1.weight, Trainable: False\n",
            "Layer: features.5.3.block.3.1.bias, Trainable: False\n",
            "Layer: features.6.0.block.0.0.weight, Trainable: False\n",
            "Layer: features.6.0.block.0.1.weight, Trainable: False\n",
            "Layer: features.6.0.block.0.1.bias, Trainable: False\n",
            "Layer: features.6.0.block.1.0.weight, Trainable: False\n",
            "Layer: features.6.0.block.1.1.weight, Trainable: False\n",
            "Layer: features.6.0.block.1.1.bias, Trainable: False\n",
            "Layer: features.6.0.block.2.fc1.weight, Trainable: False\n",
            "Layer: features.6.0.block.2.fc1.bias, Trainable: False\n",
            "Layer: features.6.0.block.2.fc2.weight, Trainable: False\n",
            "Layer: features.6.0.block.2.fc2.bias, Trainable: False\n",
            "Layer: features.6.0.block.3.0.weight, Trainable: False\n",
            "Layer: features.6.0.block.3.1.weight, Trainable: False\n",
            "Layer: features.6.0.block.3.1.bias, Trainable: False\n",
            "Layer: features.6.1.block.0.0.weight, Trainable: False\n",
            "Layer: features.6.1.block.0.1.weight, Trainable: False\n",
            "Layer: features.6.1.block.0.1.bias, Trainable: False\n",
            "Layer: features.6.1.block.1.0.weight, Trainable: False\n",
            "Layer: features.6.1.block.1.1.weight, Trainable: False\n",
            "Layer: features.6.1.block.1.1.bias, Trainable: False\n",
            "Layer: features.6.1.block.2.fc1.weight, Trainable: False\n",
            "Layer: features.6.1.block.2.fc1.bias, Trainable: False\n",
            "Layer: features.6.1.block.2.fc2.weight, Trainable: False\n",
            "Layer: features.6.1.block.2.fc2.bias, Trainable: False\n",
            "Layer: features.6.1.block.3.0.weight, Trainable: False\n",
            "Layer: features.6.1.block.3.1.weight, Trainable: False\n",
            "Layer: features.6.1.block.3.1.bias, Trainable: False\n",
            "Layer: features.6.2.block.0.0.weight, Trainable: False\n",
            "Layer: features.6.2.block.0.1.weight, Trainable: False\n",
            "Layer: features.6.2.block.0.1.bias, Trainable: False\n",
            "Layer: features.6.2.block.1.0.weight, Trainable: False\n",
            "Layer: features.6.2.block.1.1.weight, Trainable: False\n",
            "Layer: features.6.2.block.1.1.bias, Trainable: False\n",
            "Layer: features.6.2.block.2.fc1.weight, Trainable: False\n",
            "Layer: features.6.2.block.2.fc1.bias, Trainable: False\n",
            "Layer: features.6.2.block.2.fc2.weight, Trainable: False\n",
            "Layer: features.6.2.block.2.fc2.bias, Trainable: False\n",
            "Layer: features.6.2.block.3.0.weight, Trainable: False\n",
            "Layer: features.6.2.block.3.1.weight, Trainable: False\n",
            "Layer: features.6.2.block.3.1.bias, Trainable: False\n",
            "Layer: features.6.3.block.0.0.weight, Trainable: False\n",
            "Layer: features.6.3.block.0.1.weight, Trainable: False\n",
            "Layer: features.6.3.block.0.1.bias, Trainable: False\n",
            "Layer: features.6.3.block.1.0.weight, Trainable: False\n",
            "Layer: features.6.3.block.1.1.weight, Trainable: False\n",
            "Layer: features.6.3.block.1.1.bias, Trainable: False\n",
            "Layer: features.6.3.block.2.fc1.weight, Trainable: False\n",
            "Layer: features.6.3.block.2.fc1.bias, Trainable: False\n",
            "Layer: features.6.3.block.2.fc2.weight, Trainable: False\n",
            "Layer: features.6.3.block.2.fc2.bias, Trainable: False\n",
            "Layer: features.6.3.block.3.0.weight, Trainable: False\n",
            "Layer: features.6.3.block.3.1.weight, Trainable: False\n",
            "Layer: features.6.3.block.3.1.bias, Trainable: False\n",
            "Layer: features.6.4.block.0.0.weight, Trainable: False\n",
            "Layer: features.6.4.block.0.1.weight, Trainable: False\n",
            "Layer: features.6.4.block.0.1.bias, Trainable: False\n",
            "Layer: features.6.4.block.1.0.weight, Trainable: False\n",
            "Layer: features.6.4.block.1.1.weight, Trainable: False\n",
            "Layer: features.6.4.block.1.1.bias, Trainable: False\n",
            "Layer: features.6.4.block.2.fc1.weight, Trainable: False\n",
            "Layer: features.6.4.block.2.fc1.bias, Trainable: False\n",
            "Layer: features.6.4.block.2.fc2.weight, Trainable: False\n",
            "Layer: features.6.4.block.2.fc2.bias, Trainable: False\n",
            "Layer: features.6.4.block.3.0.weight, Trainable: False\n",
            "Layer: features.6.4.block.3.1.weight, Trainable: False\n",
            "Layer: features.6.4.block.3.1.bias, Trainable: False\n",
            "Layer: features.7.0.block.0.0.weight, Trainable: False\n",
            "Layer: features.7.0.block.0.1.weight, Trainable: False\n",
            "Layer: features.7.0.block.0.1.bias, Trainable: False\n",
            "Layer: features.7.0.block.1.0.weight, Trainable: False\n",
            "Layer: features.7.0.block.1.1.weight, Trainable: False\n",
            "Layer: features.7.0.block.1.1.bias, Trainable: False\n",
            "Layer: features.7.0.block.2.fc1.weight, Trainable: False\n",
            "Layer: features.7.0.block.2.fc1.bias, Trainable: False\n",
            "Layer: features.7.0.block.2.fc2.weight, Trainable: False\n",
            "Layer: features.7.0.block.2.fc2.bias, Trainable: False\n",
            "Layer: features.7.0.block.3.0.weight, Trainable: False\n",
            "Layer: features.7.0.block.3.1.weight, Trainable: False\n",
            "Layer: features.7.0.block.3.1.bias, Trainable: False\n",
            "Layer: features.7.1.block.0.0.weight, Trainable: False\n",
            "Layer: features.7.1.block.0.1.weight, Trainable: False\n",
            "Layer: features.7.1.block.0.1.bias, Trainable: False\n",
            "Layer: features.7.1.block.1.0.weight, Trainable: False\n",
            "Layer: features.7.1.block.1.1.weight, Trainable: False\n",
            "Layer: features.7.1.block.1.1.bias, Trainable: False\n",
            "Layer: features.7.1.block.2.fc1.weight, Trainable: False\n",
            "Layer: features.7.1.block.2.fc1.bias, Trainable: False\n",
            "Layer: features.7.1.block.2.fc2.weight, Trainable: False\n",
            "Layer: features.7.1.block.2.fc2.bias, Trainable: False\n",
            "Layer: features.7.1.block.3.0.weight, Trainable: False\n",
            "Layer: features.7.1.block.3.1.weight, Trainable: False\n",
            "Layer: features.7.1.block.3.1.bias, Trainable: False\n",
            "Layer: features.8.0.weight, Trainable: False\n",
            "Layer: features.8.1.weight, Trainable: False\n",
            "Layer: features.8.1.bias, Trainable: False\n",
            "Layer: classifier.1.weight, Trainable: True\n",
            "Layer: classifier.1.bias, Trainable: True\n"
          ]
        }
      ]
    },
    {
      "cell_type": "code",
      "source": [
        "food101_train_transforms = torchvision.transforms.Compose([\n",
        "    torchvision.transforms.TrivialAugmentWide(),\n",
        "    auto_transforms,\n",
        "])"
      ],
      "metadata": {
        "id": "8mOjGLqJNjZP"
      },
      "execution_count": 47,
      "outputs": []
    },
    {
      "cell_type": "code",
      "execution_count": 48,
      "metadata": {
        "id": "HuP2ET_WH80c"
      },
      "outputs": [],
      "source": [
        "from torchvision import datasets\n",
        "from pathlib import Path\n",
        "\n",
        "data_dir = Path(\"data\")\n",
        "\n",
        "train_data = datasets.Food101(root=data_dir,\n",
        "                              split=\"train\",\n",
        "                              transform=food101_train_transforms,\n",
        "                              download=True)\n",
        "\n",
        "test_data = datasets.Food101(root=data_dir,\n",
        "                             split=\"test\",\n",
        "                             transform=food101_train_transforms,\n",
        "                             download=True)"
      ]
    },
    {
      "cell_type": "code",
      "source": [
        "food101_class_names = train_data.classes"
      ],
      "metadata": {
        "id": "l-fqOr-wNyd5"
      },
      "execution_count": 49,
      "outputs": []
    },
    {
      "cell_type": "code",
      "source": [
        "food101_class_names[:10]"
      ],
      "metadata": {
        "colab": {
          "base_uri": "https://localhost:8080/"
        },
        "id": "x5xNowqNQYyL",
        "outputId": "7367819c-9e0e-4f99-d582-613d563d4701"
      },
      "execution_count": 50,
      "outputs": [
        {
          "output_type": "execute_result",
          "data": {
            "text/plain": [
              "['apple_pie',\n",
              " 'baby_back_ribs',\n",
              " 'baklava',\n",
              " 'beef_carpaccio',\n",
              " 'beef_tartare',\n",
              " 'beet_salad',\n",
              " 'beignets',\n",
              " 'bibimbap',\n",
              " 'bread_pudding',\n",
              " 'breakfast_burrito']"
            ]
          },
          "metadata": {},
          "execution_count": 50
        }
      ]
    },
    {
      "cell_type": "code",
      "source": [
        "def split_dataset(dataset:torchvision.datasets, split_size:float=0.2, seed:int=42):\n",
        "    \"\"\"Randomly splits a given dataset into two proportions based on split_size and seed.\n",
        "\n",
        "    Args:\n",
        "        dataset (torchvision.datasets): A PyTorch Dataset, typically one from torchvision.datasets.\n",
        "        split_size (float, optional): How much of the dataset should be split?\n",
        "            E.g. split_size=0.2 means there will be a 20% split and an 80% split. Defaults to 0.2.\n",
        "        seed (int, optional): Seed for random generator. Defaults to 42.\n",
        "\n",
        "    Returns:\n",
        "        tuple: (random_split_1, random_split_2) where random_split_1 is of size split_size*len(dataset) and\n",
        "            random_split_2 is of size (1-split_size)*len(dataset).\n",
        "    \"\"\"\n",
        "    # Creating split lengths based on original dataset length\n",
        "    length_1 = int(len(dataset) * split_size)\n",
        "    length_2 = len(dataset) - length_1\n",
        "\n",
        "    # Printing info\n",
        "    print(f\"[INFO] Splitting dataset of length {len(dataset)} into splits of size: {length_1} ({int(split_size*100)}%), {length_2} ({int((1-split_size)*100)}%)\")\n",
        "\n",
        "    # Creating splits with given random seed\n",
        "    random_split_1, random_split_2 = torch.utils.data.random_split(dataset,\n",
        "                                                                   lengths=[length_1, length_2],\n",
        "                                                                   generator=torch.manual_seed(seed)) # set the random seed for reproducible splits\n",
        "    return random_split_1, random_split_2"
      ],
      "metadata": {
        "id": "YyHGo7z1QbVA"
      },
      "execution_count": 51,
      "outputs": []
    },
    {
      "cell_type": "code",
      "source": [
        "train_data_food101_20_percent, _ = split_dataset(dataset=train_data,\n",
        "                                                 split_size=0.2)\n",
        "\n",
        "# Create testing 20% split of Food101\n",
        "test_data_food101_20_percent, _ = split_dataset(dataset=test_data,\n",
        "                                                split_size=0.2)"
      ],
      "metadata": {
        "colab": {
          "base_uri": "https://localhost:8080/"
        },
        "id": "9VWjVuqjRAoE",
        "outputId": "5e43a5f0-bf23-4fa9-9783-cbac8c7f934e"
      },
      "execution_count": 52,
      "outputs": [
        {
          "output_type": "stream",
          "name": "stdout",
          "text": [
            "[INFO] Splitting dataset of length 75750 into splits of size: 15150 (20%), 60600 (80%)\n",
            "[INFO] Splitting dataset of length 25250 into splits of size: 5050 (20%), 20200 (80%)\n"
          ]
        }
      ]
    },
    {
      "cell_type": "code",
      "source": [
        "len(train_data_food101_20_percent), len(test_data_food101_20_percent)"
      ],
      "metadata": {
        "colab": {
          "base_uri": "https://localhost:8080/"
        },
        "id": "9PYhSlMaRDkI",
        "outputId": "e9658253-e17b-404b-b721-446749403516"
      },
      "execution_count": 53,
      "outputs": [
        {
          "output_type": "execute_result",
          "data": {
            "text/plain": [
              "(15150, 5050)"
            ]
          },
          "metadata": {},
          "execution_count": 53
        }
      ]
    },
    {
      "cell_type": "code",
      "source": [
        "import os\n",
        "\n",
        "BATCH_SIZE = 32\n",
        "NUM_WORKERS = 2 if os.cpu_count() <= 4 else 4\n",
        "\n",
        "train_dataloader_food101_20_percent = torch.utils.data.DataLoader(train_data_food101_20_percent,\n",
        "                                                                  batch_size=BATCH_SIZE,\n",
        "                                                                  shuffle=True,\n",
        "                                                                  num_workers=NUM_WORKERS)\n",
        "\n",
        "test_dataloader_food101_20_percent = torch.utils.data.DataLoader(test_data_food101_20_percent,\n",
        "                                                                 batch_size=BATCH_SIZE,\n",
        "                                                                 shuffle=False,\n",
        "                                                                 num_workers=NUM_WORKERS)"
      ],
      "metadata": {
        "id": "WGdT3-6jREAv"
      },
      "execution_count": 54,
      "outputs": []
    },
    {
      "cell_type": "code",
      "source": [
        "train_dataloader_food101_20_percent, test_dataloader_food101_20_percent"
      ],
      "metadata": {
        "colab": {
          "base_uri": "https://localhost:8080/"
        },
        "id": "KtaC6LS9RK4X",
        "outputId": "dbb121db-df7a-4d33-c998-bc5645e1fbe7"
      },
      "execution_count": 55,
      "outputs": [
        {
          "output_type": "execute_result",
          "data": {
            "text/plain": [
              "(<torch.utils.data.dataloader.DataLoader at 0x79451e693850>,\n",
              " <torch.utils.data.dataloader.DataLoader at 0x79451e6935b0>)"
            ]
          },
          "metadata": {},
          "execution_count": 55
        }
      ]
    },
    {
      "cell_type": "code",
      "source": [
        "import torch\n",
        "\n",
        "from tqdm.auto import tqdm\n",
        "from typing import Dict, List, Tuple\n",
        "\n",
        "def train_step(model: torch.nn.Module,\n",
        "               dataloader: torch.utils.data.DataLoader,\n",
        "               loss_fn: torch.nn.Module,\n",
        "               optimizer: torch.optim.Optimizer,\n",
        "               device: torch.device) -> Tuple[float, float]:\n",
        "    \"\"\"Trains a PyTorch model for a single epoch.\n",
        "\n",
        "    Turns a target PyTorch model to training mode and then\n",
        "    runs through all of the required training steps (forward\n",
        "    pass, loss calculation, optimizer step).\n",
        "\n",
        "    Args:\n",
        "    model: A PyTorch model to be trained.\n",
        "    dataloader: A DataLoader instance for the model to be trained on.\n",
        "    loss_fn: A PyTorch loss function to minimize.\n",
        "    optimizer: A PyTorch optimizer to help minimize the loss function.\n",
        "    device: A target device to compute on (e.g. \"cuda\" or \"cpu\").\n",
        "\n",
        "    Returns:\n",
        "    A tuple of training loss and training accuracy metrics.\n",
        "    In the form (train_loss, train_accuracy). For example:\n",
        "\n",
        "    (0.1112, 0.8743)\n",
        "    \"\"\"\n",
        "    # Put model in train mode\n",
        "    model.train()\n",
        "\n",
        "    # Setup train loss and train accuracy values\n",
        "    train_loss, train_acc = 0, 0\n",
        "\n",
        "    # Loop through data loader data batches\n",
        "    for batch, (X, y) in enumerate(dataloader):\n",
        "        # Send data to target device\n",
        "        X, y = X.to(device), y.to(device)\n",
        "\n",
        "        # 1. Forward pass\n",
        "        y_pred = model(X)\n",
        "\n",
        "        # 2. Calculate  and accumulate loss\n",
        "        loss = loss_fn(y_pred, y)\n",
        "        train_loss += loss.item()\n",
        "\n",
        "        # 3. Optimizer zero grad\n",
        "        optimizer.zero_grad()\n",
        "\n",
        "        # 4. Loss backward\n",
        "        loss.backward()\n",
        "\n",
        "        # 5. Optimizer step\n",
        "        optimizer.step()\n",
        "\n",
        "        # Calculate and accumulate accuracy metric across all batches\n",
        "        y_pred_class = torch.argmax(torch.softmax(y_pred, dim=1), dim=1)\n",
        "        train_acc += (y_pred_class == y).sum().item()/len(y_pred)\n",
        "\n",
        "    # Adjust metrics to get average loss and accuracy per batch\n",
        "    train_loss = train_loss / len(dataloader)\n",
        "    train_acc = train_acc / len(dataloader)\n",
        "    return train_loss, train_acc"
      ],
      "metadata": {
        "id": "AeU4snpWRM8i"
      },
      "execution_count": 56,
      "outputs": []
    },
    {
      "cell_type": "code",
      "source": [
        "def test_step(model: torch.nn.Module,\n",
        "              dataloader: torch.utils.data.DataLoader,\n",
        "              loss_fn: torch.nn.Module,\n",
        "              device: torch.device) -> Tuple[float, float]:\n",
        "    \"\"\"Tests a PyTorch model for a single epoch.\n",
        "\n",
        "    Turns a target PyTorch model to \"eval\" mode and then performs\n",
        "    a forward pass on a testing dataset.\n",
        "\n",
        "    Args:\n",
        "    model: A PyTorch model to be tested.\n",
        "    dataloader: A DataLoader instance for the model to be tested on.\n",
        "    loss_fn: A PyTorch loss function to calculate loss on the test data.\n",
        "    device: A target device to compute on (e.g. \"cuda\" or \"cpu\").\n",
        "\n",
        "    Returns:\n",
        "    A tuple of testing loss and testing accuracy metrics.\n",
        "    In the form (test_loss, test_accuracy). For example:\n",
        "\n",
        "    (0.0223, 0.8985)\n",
        "    \"\"\"\n",
        "    # Put model in eval mode\n",
        "    model.eval()\n",
        "\n",
        "    # Setup test loss and test accuracy values\n",
        "    test_loss, test_acc = 0, 0\n",
        "\n",
        "    # Turn on inference context manager\n",
        "    with torch.inference_mode():\n",
        "        # Loop through DataLoader batches\n",
        "        for batch, (X, y) in enumerate(dataloader):\n",
        "            # Send data to target device\n",
        "            X, y = X.to(device), y.to(device)\n",
        "\n",
        "            # 1. Forward pass\n",
        "            test_pred_logits = model(X)\n",
        "\n",
        "            # 2. Calculate and accumulate loss\n",
        "            loss = loss_fn(test_pred_logits, y)\n",
        "            test_loss += loss.item()\n",
        "\n",
        "            # Calculate and accumulate accuracy\n",
        "            test_pred_labels = test_pred_logits.argmax(dim=1)\n",
        "            test_acc += ((test_pred_labels == y).sum().item()/len(test_pred_labels))\n",
        "\n",
        "    # Adjust metrics to get average loss and accuracy per batch\n",
        "    test_loss = test_loss / len(dataloader)\n",
        "    test_acc = test_acc / len(dataloader)\n",
        "    return test_loss, test_acc"
      ],
      "metadata": {
        "id": "ziomezrbRTW1"
      },
      "execution_count": 57,
      "outputs": []
    },
    {
      "cell_type": "code",
      "source": [
        "def train(model: torch.nn.Module,\n",
        "          train_dataloader: torch.utils.data.DataLoader,\n",
        "          test_dataloader: torch.utils.data.DataLoader,\n",
        "          optimizer: torch.optim.Optimizer,\n",
        "          loss_fn: torch.nn.Module,\n",
        "          epochs: int,\n",
        "          device: torch.device) -> Dict[str, List]:\n",
        "    \"\"\"Trains and tests a PyTorch model.\n",
        "\n",
        "    Passes a target PyTorch models through train_step() and test_step()\n",
        "    functions for a number of epochs, training and testing the model\n",
        "    in the same epoch loop.\n",
        "\n",
        "    Calculates, prints and stores evaluation metrics throughout.\n",
        "\n",
        "    Args:\n",
        "    model: A PyTorch model to be trained and tested.\n",
        "    train_dataloader: A DataLoader instance for the model to be trained on.\n",
        "    test_dataloader: A DataLoader instance for the model to be tested on.\n",
        "    optimizer: A PyTorch optimizer to help minimize the loss function.\n",
        "    loss_fn: A PyTorch loss function to calculate loss on both datasets.\n",
        "    epochs: An integer indicating how many epochs to train for.\n",
        "    device: A target device to compute on (e.g. \"cuda\" or \"cpu\").\n",
        "\n",
        "    Returns:\n",
        "    A dictionary of training and testing loss as well as training and\n",
        "    testing accuracy metrics. Each metric has a value in a list for\n",
        "    each epoch.\n",
        "    In the form: {train_loss: [...],\n",
        "              train_acc: [...],\n",
        "              test_loss: [...],\n",
        "              test_acc: [...]}\n",
        "    For example if training for epochs=2:\n",
        "             {train_loss: [2.0616, 1.0537],\n",
        "              train_acc: [0.3945, 0.3945],\n",
        "              test_loss: [1.2641, 1.5706],\n",
        "              test_acc: [0.3400, 0.2973]}\n",
        "    \"\"\"\n",
        "    # Create empty results dictionary\n",
        "    results = {\"train_loss\": [],\n",
        "               \"train_acc\": [],\n",
        "               \"test_loss\": [],\n",
        "               \"test_acc\": []\n",
        "    }\n",
        "\n",
        "    # Make sure model on target device\n",
        "    model.to(device)\n",
        "\n",
        "    # Loop through training and testing steps for a number of epochs\n",
        "    for epoch in tqdm(range(epochs)):\n",
        "        train_loss, train_acc = train_step(model=model,\n",
        "                                          dataloader=train_dataloader,\n",
        "                                          loss_fn=loss_fn,\n",
        "                                          optimizer=optimizer,\n",
        "                                          device=device)\n",
        "        test_loss, test_acc = test_step(model=model,\n",
        "          dataloader=test_dataloader,\n",
        "          loss_fn=loss_fn,\n",
        "          device=device)\n",
        "\n",
        "        # Print out what's happening\n",
        "        print(\n",
        "          f\"Epoch: {epoch+1} | \"\n",
        "          f\"train_loss: {train_loss:.4f} | \"\n",
        "          f\"train_acc: {train_acc:.4f} | \"\n",
        "          f\"test_loss: {test_loss:.4f} | \"\n",
        "          f\"test_acc: {test_acc:.4f}\"\n",
        "        )\n",
        "\n",
        "        # Update results dictionary\n",
        "        results[\"train_loss\"].append(train_loss)\n",
        "        results[\"train_acc\"].append(train_acc)\n",
        "        results[\"test_loss\"].append(test_loss)\n",
        "        results[\"test_acc\"].append(test_acc)\n",
        "\n",
        "    # Return the filled results at the end of the epochs\n",
        "    return results"
      ],
      "metadata": {
        "id": "oYnPd1a9RU_S"
      },
      "execution_count": 58,
      "outputs": []
    },
    {
      "cell_type": "code",
      "source": [
        "loss_fn = torch.nn.CrossEntropyLoss(label_smoothing=0.1)\n",
        "optimizer = torch.optim.Adam(params=model.parameters(),\n",
        "                             lr=1e-3)"
      ],
      "metadata": {
        "id": "YszuPogbRV8W"
      },
      "execution_count": 59,
      "outputs": []
    },
    {
      "cell_type": "code",
      "source": [
        "device = 'cuda' if torch.cuda.is_available() else 'cpu'\n",
        "device"
      ],
      "metadata": {
        "colab": {
          "base_uri": "https://localhost:8080/",
          "height": 35
        },
        "id": "Z_cphRAhS-su",
        "outputId": "24c9743e-7dcf-4ed0-9f5d-ae60cfd44f5b"
      },
      "execution_count": 60,
      "outputs": [
        {
          "output_type": "execute_result",
          "data": {
            "text/plain": [
              "'cuda'"
            ],
            "application/vnd.google.colaboratory.intrinsic+json": {
              "type": "string"
            }
          },
          "metadata": {},
          "execution_count": 60
        }
      ]
    },
    {
      "cell_type": "code",
      "source": [
        "torch.manual_seed(42)\n",
        "\n",
        "effnetb2_food101_results = train(model=model,\n",
        "                                        train_dataloader=train_dataloader_food101_20_percent,\n",
        "                                        test_dataloader=test_dataloader_food101_20_percent,\n",
        "                                        optimizer=optimizer,\n",
        "                                        loss_fn=loss_fn,\n",
        "                                        epochs=5,\n",
        "                                        device=device)"
      ],
      "metadata": {
        "colab": {
          "base_uri": "https://localhost:8080/",
          "height": 136,
          "referenced_widgets": [
            "6593fcf1203042de8471139d6cd9816b",
            "113462faebaa44ff83a8f2d174f65f2d",
            "e79e96e9416f404bb59e6dc5f412e53b",
            "b639bf66fb5a4b8ab981b7754616927a",
            "b42e0defa1044bf589cd2940e9363efa",
            "8e56b7d2160a4f17a1986ed0a4e8fc2a",
            "00ba4094b74c419387569d718ab0d185",
            "94d5b62071424417a590df17c8fca882",
            "5c992dae9934448ea4db3ea9e2fe3d46",
            "f2c429990e3c4a64aac7b21efeb4ccaf",
            "c75e61ec63974deb88db727243ba8ba1"
          ]
        },
        "id": "SMFVTsW6RbWU",
        "outputId": "b98c43de-3bd0-4730-88ed-512cc53144ba"
      },
      "execution_count": 61,
      "outputs": [
        {
          "output_type": "display_data",
          "data": {
            "text/plain": [
              "  0%|          | 0/5 [00:00<?, ?it/s]"
            ],
            "application/vnd.jupyter.widget-view+json": {
              "version_major": 2,
              "version_minor": 0,
              "model_id": "6593fcf1203042de8471139d6cd9816b"
            }
          },
          "metadata": {}
        },
        {
          "output_type": "stream",
          "name": "stdout",
          "text": [
            "Epoch: 1 | train_loss: 3.6435 | train_acc: 0.2753 | test_loss: 2.9160 | test_acc: 0.4515\n",
            "Epoch: 2 | train_loss: 2.8613 | train_acc: 0.4423 | test_loss: 2.6535 | test_acc: 0.4890\n",
            "Epoch: 3 | train_loss: 2.6564 | train_acc: 0.4861 | test_loss: 2.5583 | test_acc: 0.5034\n",
            "Epoch: 4 | train_loss: 2.5451 | train_acc: 0.5123 | test_loss: 2.4812 | test_acc: 0.5242\n",
            "Epoch: 5 | train_loss: 2.4967 | train_acc: 0.5231 | test_loss: 2.4692 | test_acc: 0.5221\n"
          ]
        }
      ]
    },
    {
      "cell_type": "code",
      "source": [
        "import matplotlib.pyplot as plt\n",
        "\n",
        "def plot_loss_curves(results):\n",
        "    \"\"\"Plots training curves of a results dictionary.\n",
        "\n",
        "    Args:\n",
        "        results (dict): dictionary containing list of values, e.g.\n",
        "            {\"train_loss\": [...],\n",
        "             \"train_acc\": [...],\n",
        "             \"test_loss\": [...],\n",
        "             \"test_acc\": [...]}\n",
        "    \"\"\"\n",
        "    loss = results[\"train_loss\"]\n",
        "    test_loss = results[\"test_loss\"]\n",
        "\n",
        "    accuracy = results[\"train_acc\"]\n",
        "    test_accuracy = results[\"test_acc\"]\n",
        "\n",
        "    epochs = range(len(results[\"train_loss\"]))\n",
        "\n",
        "    plt.figure(figsize=(15, 7))\n",
        "\n",
        "    # Plot loss\n",
        "    plt.subplot(1, 2, 1)\n",
        "    plt.plot(epochs, loss, label=\"train_loss\")\n",
        "    plt.plot(epochs, test_loss, label=\"test_loss\")\n",
        "    plt.title(\"Loss\")\n",
        "    plt.xlabel(\"Epochs\")\n",
        "    plt.legend()\n",
        "\n",
        "    # Plot accuracy\n",
        "    plt.subplot(1, 2, 2)\n",
        "    plt.plot(epochs, accuracy, label=\"train_accuracy\")\n",
        "    plt.plot(epochs, test_accuracy, label=\"test_accuracy\")\n",
        "    plt.title(\"Accuracy\")\n",
        "    plt.xlabel(\"Epochs\")\n",
        "    plt.legend()"
      ],
      "metadata": {
        "id": "WIJdS7GxTIlo"
      },
      "execution_count": 62,
      "outputs": []
    },
    {
      "cell_type": "code",
      "source": [
        "plot_loss_curves(effnetb2_food101_results)"
      ],
      "metadata": {
        "colab": {
          "base_uri": "https://localhost:8080/",
          "height": 641
        },
        "id": "DmSvzsvDXfdK",
        "outputId": "2e6dfef4-2c80-42d1-b4b7-b8e786981cc8"
      },
      "execution_count": 63,
      "outputs": [
        {
          "output_type": "display_data",
          "data": {
            "text/plain": [
              "<Figure size 1500x700 with 2 Axes>"
            ],
            "image/png": "[encoded data removed]"
          },
          "metadata": {}
        }
      ]
    },
    {
      "cell_type": "code",
      "source": [
        "torch.save(obj=model.state_dict(), f = \"/content/EffnetB2_feature_extracted_model.pth\")"
      ],
      "metadata": {
        "id": "B6C7pXmyYVzX"
      },
      "execution_count": 75,
      "outputs": []
    },
    {
      "cell_type": "code",
      "source": [
        "loaded_effnetb2_food101 = model"
      ],
      "metadata": {
        "id": "Eb9UFxq9Y7F5"
      },
      "execution_count": 80,
      "outputs": []
    },
    {
      "cell_type": "code",
      "source": [
        "loaded_effnetb2_food101.load_state_dict(torch.load(\"/content/EffnetB2_feature_extracted_model.pth\"))"
      ],
      "metadata": {
        "colab": {
          "base_uri": "https://localhost:8080/"
        },
        "id": "nkMsRrJDZXWf",
        "outputId": "98efcdc6-30c3-4fa6-a497-5c313cbf767a"
      },
      "execution_count": 81,
      "outputs": [
        {
          "output_type": "stream",
          "name": "stderr",
          "text": [
            "<ipython-input-81-c0fb76ed53d9>:1: FutureWarning: You are using `torch.load` with `weights_only=False` (the current default value), which uses the default pickle module implicitly. It is possible to construct malicious pickle data which will execute arbitrary code during unpickling (See https://github.com/pytorch/pytorch/blob/main/SECURITY.md#untrusted-models for more details). In a future release, the default value for `weights_only` will be flipped to `True`. This limits the functions that could be executed during unpickling. Arbitrary objects will no longer be allowed to be loaded via this mode unless they are explicitly allowlisted by the user via `torch.serialization.add_safe_globals`. We recommend you start setting `weights_only=True` for any use case where you don't have full control of the loaded file. Please open an issue on GitHub for any issues related to this experimental feature.\n",
            "  loaded_effnetb2_food101.load_state_dict(torch.load(\"/content/EffnetB2_feature_extracted_model.pth\"))\n"
          ]
        },
        {
          "output_type": "execute_result",
          "data": {
            "text/plain": [
              "<All keys matched successfully>"
            ]
          },
          "metadata": {},
          "execution_count": 81
        }
      ]
    },
    {
      "cell_type": "code",
      "source": [
        "# Creating demo path\n",
        "FoodSnap_path = Path(\"demos/FoodSnap/\")\n",
        "\n",
        "# Make FoodVision Big demo directory\n",
        "FoodSnap_path.mkdir(parents=True, exist_ok=True)\n",
        "\n",
        "# Make FoodVision Big demo examples directory\n",
        "(FoodSnap_path / \"examples\").mkdir(parents=True, exist_ok=True)"
      ],
      "metadata": {
        "id": "iL_gC2oGZfps"
      },
      "execution_count": 82,
      "outputs": []
    },
    {
      "cell_type": "code",
      "source": [
        "!wget https://raw.githubusercontent.com/mrdbourke/pytorch-deep-learning/main/images/04-pizza-dad.jpeg\n",
        "!mv 04-pizza-dad.jpeg demos/FoodSnap_path/examples/04-pizza-dad.jpg"
      ],
      "metadata": {
        "colab": {
          "base_uri": "https://localhost:8080/"
        },
        "id": "PD_yw6-aZy3e",
        "outputId": "b3b6dcae-6c77-45bc-a9d3-250e67cf4bea"
      },
      "execution_count": 84,
      "outputs": [
        {
          "output_type": "stream",
          "name": "stdout",
          "text": [
            "--2025-01-22 09:46:42--  https://raw.githubusercontent.com/mrdbourke/pytorch-deep-learning/main/images/04-pizza-dad.jpeg\n",
            "Resolving raw.githubusercontent.com (raw.githubusercontent.com)... 185.199.110.133, 185.199.111.133, 185.199.109.133, ...\n",
            "Connecting to raw.githubusercontent.com (raw.githubusercontent.com)|185.199.110.133|:443... connected.\n",
            "HTTP request sent, awaiting response... 200 OK\n",
            "Length: 2874848 (2.7M) [image/jpeg]\n",
            "Saving to: ‘04-pizza-dad.jpeg.1’\n",
            "\n",
            "\r04-pizza-dad.jpeg.1   0%[                    ]       0  --.-KB/s               \r04-pizza-dad.jpeg.1 100%[===================>]   2.74M  --.-KB/s    in 0.07s   \n",
            "\n",
            "2025-01-22 09:46:43 (36.7 MB/s) - ‘04-pizza-dad.jpeg.1’ saved [2874848/2874848]\n",
            "\n",
            "mv: cannot move '04-pizza-dad.jpeg' to 'demos/FoodSnap_path/examples/04-pizza-dad.jpg': No such file or directory\n"
          ]
        }
      ]
    },
    {
      "cell_type": "code",
      "source": [
        "# Create path to Food101 class names\n",
        "class_names_path = FoodSnap_path / \"class_names.txt\"\n",
        "\n",
        "# Write Food101 class names list to file\n",
        "with open(class_names_path, \"w\") as f:\n",
        "    print(f\"[INFO] Saving Food101 class names to {class_names_path}\")\n",
        "    f.write(\"\\n\".join(food101_class_names))"
      ],
      "metadata": {
        "colab": {
          "base_uri": "https://localhost:8080/"
        },
        "id": "PK4RueSjZ9yr",
        "outputId": "c1c363f6-db90-4dfa-8d31-c06f561389fa"
      },
      "execution_count": 86,
      "outputs": [
        {
          "output_type": "stream",
          "name": "stdout",
          "text": [
            "[INFO] Saving Food101 class names to demos/FoodSnap/class_names.txt\n"
          ]
        }
      ]
    },
    {
      "cell_type": "code",
      "source": [
        "# Open Food101 class names file and read each line into a list\n",
        "with open(class_names_path, \"r\") as f:\n",
        "    food101_class_names_loaded = [food.strip() for food in  f.readlines()]"
      ],
      "metadata": {
        "id": "mJxO8iQRaNpw"
      },
      "execution_count": 87,
      "outputs": []
    },
    {
      "cell_type": "code",
      "source": [
        "# View the first 5 class names loaded back in\n",
        "food101_class_names_loaded[:5]"
      ],
      "metadata": {
        "colab": {
          "base_uri": "https://localhost:8080/"
        },
        "id": "JWg_DnCFagLw",
        "outputId": "de43d0eb-16b4-41aa-8b82-1b44ad85871e"
      },
      "execution_count": 88,
      "outputs": [
        {
          "output_type": "execute_result",
          "data": {
            "text/plain": [
              "['apple_pie', 'baby_back_ribs', 'baklava', 'beef_carpaccio', 'beef_tartare']"
            ]
          },
          "metadata": {},
          "execution_count": 88
        }
      ]
    },
    {
      "cell_type": "code",
      "source": [
        "%%writefile demos/FoodSnap/model.py\n",
        "import torch\n",
        "import torchvision\n",
        "\n",
        "from torch import nn\n",
        "\n",
        "\n",
        "def create_effnetb2_model(num_classes:int=3,\n",
        "                          seed:int=42):\n",
        "    \"\"\"Creates an EfficientNetB2 feature extractor model and transforms.\n",
        "\n",
        "    Args:\n",
        "        num_classes (int, optional): number of classes in the classifier head.\n",
        "            Defaults to 3.\n",
        "        seed (int, optional): random seed value. Defaults to 42.\n",
        "\n",
        "    Returns:\n",
        "        model (torch.nn.Module): EffNetB2 feature extractor model.\n",
        "        transforms (torchvision.transforms): EffNetB2 image transforms.\n",
        "    \"\"\"\n",
        "    # Create EffNetB2 pretrained weights, transforms and model\n",
        "    weights = torchvision.models.EfficientNet_B2_Weights.DEFAULT\n",
        "    transforms = weights.transforms()\n",
        "    model = torchvision.models.efficientnet_b2(weights=weights)\n",
        "\n",
        "    # Freeze all layers in base model\n",
        "    for param in model.parameters():\n",
        "        param.requires_grad = False\n",
        "\n",
        "    # Change classifier head with random seed for reproducibility\n",
        "    torch.manual_seed(seed)\n",
        "    model.classifier = nn.Sequential(\n",
        "        nn.Dropout(p=0.3, inplace=True),\n",
        "        nn.Linear(in_features=1408, out_features=num_classes),\n",
        "    )\n",
        "\n",
        "    return model, transforms"
      ],
      "metadata": {
        "colab": {
          "base_uri": "https://localhost:8080/"
        },
        "id": "uiXUpWfOahXI",
        "outputId": "f8cd67f8-049b-4575-a538-3e6aba701045"
      },
      "execution_count": 90,
      "outputs": [
        {
          "output_type": "stream",
          "name": "stdout",
          "text": [
            "Writing demos/FoodSnap/model.py\n"
          ]
        }
      ]
    },
    {
      "cell_type": "code",
      "source": [
        "!pip install gradio"
      ],
      "metadata": {
        "colab": {
          "base_uri": "https://localhost:8080/"
        },
        "collapsed": true,
        "id": "H38wTfDBbDg9",
        "outputId": "1f6ab613-ec5e-44bd-cd8d-95491c21c061"
      },
      "execution_count": 91,
      "outputs": [
        {
          "output_type": "stream",
          "name": "stdout",
          "text": [
            "Collecting gradio\n",
            "  Downloading gradio-5.12.0-py3-none-any.whl.metadata (16 kB)\n",
            "Collecting aiofiles<24.0,>=22.0 (from gradio)\n",
            "  Downloading aiofiles-23.2.1-py3-none-any.whl.metadata (9.7 kB)\n",
            "Requirement already satisfied: anyio<5.0,>=3.0 in /usr/local/lib/python3.10/dist-packages (from gradio) (3.7.1)\n",
            "Collecting fastapi<1.0,>=0.115.2 (from gradio)\n",
            "  Downloading fastapi-0.115.6-py3-none-any.whl.metadata (27 kB)\n",
            "Collecting ffmpy (from gradio)\n",
            "  Downloading ffmpy-0.5.0-py3-none-any.whl.metadata (3.0 kB)\n",
            "Collecting gradio-client==1.5.4 (from gradio)\n",
            "  Downloading gradio_client-1.5.4-py3-none-any.whl.metadata (7.1 kB)\n",
            "Requirement already satisfied: httpx>=0.24.1 in /usr/local/lib/python3.10/dist-packages (from gradio) (0.28.1)\n",
            "Requirement already satisfied: huggingface-hub>=0.25.1 in /usr/local/lib/python3.10/dist-packages (from gradio) (0.27.0)\n",
            "Requirement already satisfied: jinja2<4.0 in /usr/local/lib/python3.10/dist-packages (from gradio) (3.1.4)\n",
            "Collecting markupsafe~=2.0 (from gradio)\n",
            "  Downloading MarkupSafe-2.1.5-cp310-cp310-manylinux_2_17_x86_64.manylinux2014_x86_64.whl.metadata (3.0 kB)\n",
            "Requirement already satisfied: numpy<3.0,>=1.0 in /usr/local/lib/python3.10/dist-packages (from gradio) (1.26.4)\n",
            "Requirement already satisfied: orjson~=3.0 in /usr/local/lib/python3.10/dist-packages (from gradio) (3.10.12)\n",
            "Requirement already satisfied: packaging in /usr/local/lib/python3.10/dist-packages (from gradio) (24.2)\n",
            "Requirement already satisfied: pandas<3.0,>=1.0 in /usr/local/lib/python3.10/dist-packages (from gradio) (2.2.2)\n",
            "Requirement already satisfied: pillow<12.0,>=8.0 in /usr/local/lib/python3.10/dist-packages (from gradio) (11.0.0)\n",
            "Requirement already satisfied: pydantic>=2.0 in /usr/local/lib/python3.10/dist-packages (from gradio) (2.10.3)\n",
            "Collecting pydub (from gradio)\n",
            "  Downloading pydub-0.25.1-py2.py3-none-any.whl.metadata (1.4 kB)\n",
            "Collecting python-multipart>=0.0.18 (from gradio)\n",
            "  Downloading python_multipart-0.0.20-py3-none-any.whl.metadata (1.8 kB)\n",
            "Requirement already satisfied: pyyaml<7.0,>=5.0 in /usr/local/lib/python3.10/dist-packages (from gradio) (6.0.2)\n",
            "Collecting ruff>=0.2.2 (from gradio)\n",
            "  Downloading ruff-0.9.2-py3-none-manylinux_2_17_x86_64.manylinux2014_x86_64.whl.metadata (25 kB)\n",
            "Collecting safehttpx<0.2.0,>=0.1.6 (from gradio)\n",
            "  Downloading safehttpx-0.1.6-py3-none-any.whl.metadata (4.2 kB)\n",
            "Collecting semantic-version~=2.0 (from gradio)\n",
            "  Downloading semantic_version-2.10.0-py2.py3-none-any.whl.metadata (9.7 kB)\n",
            "Collecting starlette<1.0,>=0.40.0 (from gradio)\n",
            "  Downloading starlette-0.45.2-py3-none-any.whl.metadata (6.3 kB)\n",
            "Collecting tomlkit<0.14.0,>=0.12.0 (from gradio)\n",
            "  Downloading tomlkit-0.13.2-py3-none-any.whl.metadata (2.7 kB)\n",
            "Requirement already satisfied: typer<1.0,>=0.12 in /usr/local/lib/python3.10/dist-packages (from gradio) (0.15.1)\n",
            "Requirement already satisfied: typing-extensions~=4.0 in /usr/local/lib/python3.10/dist-packages (from gradio) (4.12.2)\n",
            "Collecting uvicorn>=0.14.0 (from gradio)\n",
            "  Downloading uvicorn-0.34.0-py3-none-any.whl.metadata (6.5 kB)\n",
            "Requirement already satisfied: fsspec in /usr/local/lib/python3.10/dist-packages (from gradio-client==1.5.4->gradio) (2024.10.0)\n",
            "Requirement already satisfied: websockets<15.0,>=10.0 in /usr/local/lib/python3.10/dist-packages (from gradio-client==1.5.4->gradio) (14.1)\n",
            "Requirement already satisfied: idna>=2.8 in /usr/local/lib/python3.10/dist-packages (from anyio<5.0,>=3.0->gradio) (3.10)\n",
            "Requirement already satisfied: sniffio>=1.1 in /usr/local/lib/python3.10/dist-packages (from anyio<5.0,>=3.0->gradio) (1.3.1)\n",
            "Requirement already satisfied: exceptiongroup in /usr/local/lib/python3.10/dist-packages (from anyio<5.0,>=3.0->gradio) (1.2.2)\n",
            "Collecting starlette<1.0,>=0.40.0 (from gradio)\n",
            "  Downloading starlette-0.41.3-py3-none-any.whl.metadata (6.0 kB)\n",
            "Requirement already satisfied: certifi in /usr/local/lib/python3.10/dist-packages (from httpx>=0.24.1->gradio) (2024.12.14)\n",
            "Requirement already satisfied: httpcore==1.* in /usr/local/lib/python3.10/dist-packages (from httpx>=0.24.1->gradio) (1.0.7)\n",
            "Requirement already satisfied: h11<0.15,>=0.13 in /usr/local/lib/python3.10/dist-packages (from httpcore==1.*->httpx>=0.24.1->gradio) (0.14.0)\n",
            "Requirement already satisfied: filelock in /usr/local/lib/python3.10/dist-packages (from huggingface-hub>=0.25.1->gradio) (3.16.1)\n",
            "Requirement already satisfied: requests in /usr/local/lib/python3.10/dist-packages (from huggingface-hub>=0.25.1->gradio) (2.32.3)\n",
            "Requirement already satisfied: tqdm>=4.42.1 in /usr/local/lib/python3.10/dist-packages (from huggingface-hub>=0.25.1->gradio) (4.67.1)\n",
            "Requirement already satisfied: python-dateutil>=2.8.2 in /usr/local/lib/python3.10/dist-packages (from pandas<3.0,>=1.0->gradio) (2.8.2)\n",
            "Requirement already satisfied: pytz>=2020.1 in /usr/local/lib/python3.10/dist-packages (from pandas<3.0,>=1.0->gradio) (2024.2)\n",
            "Requirement already satisfied: tzdata>=2022.7 in /usr/local/lib/python3.10/dist-packages (from pandas<3.0,>=1.0->gradio) (2024.2)\n",
            "Requirement already satisfied: annotated-types>=0.6.0 in /usr/local/lib/python3.10/dist-packages (from pydantic>=2.0->gradio) (0.7.0)\n",
            "Requirement already satisfied: pydantic-core==2.27.1 in /usr/local/lib/python3.10/dist-packages (from pydantic>=2.0->gradio) (2.27.1)\n",
            "Requirement already satisfied: click>=8.0.0 in /usr/local/lib/python3.10/dist-packages (from typer<1.0,>=0.12->gradio) (8.1.7)\n",
            "Requirement already satisfied: shellingham>=1.3.0 in /usr/local/lib/python3.10/dist-packages (from typer<1.0,>=0.12->gradio) (1.5.4)\n",
            "Requirement already satisfied: rich>=10.11.0 in /usr/local/lib/python3.10/dist-packages (from typer<1.0,>=0.12->gradio) (13.9.4)\n",
            "Requirement already satisfied: six>=1.5 in /usr/local/lib/python3.10/dist-packages (from python-dateutil>=2.8.2->pandas<3.0,>=1.0->gradio) (1.17.0)\n",
            "Requirement already satisfied: markdown-it-py>=2.2.0 in /usr/local/lib/python3.10/dist-packages (from rich>=10.11.0->typer<1.0,>=0.12->gradio) (3.0.0)\n",
            "Requirement already satisfied: pygments<3.0.0,>=2.13.0 in /usr/local/lib/python3.10/dist-packages (from rich>=10.11.0->typer<1.0,>=0.12->gradio) (2.18.0)\n",
            "Requirement already satisfied: charset-normalizer<4,>=2 in /usr/local/lib/python3.10/dist-packages (from requests->huggingface-hub>=0.25.1->gradio) (3.4.0)\n",
            "Requirement already satisfied: urllib3<3,>=1.21.1 in /usr/local/lib/python3.10/dist-packages (from requests->huggingface-hub>=0.25.1->gradio) (2.2.3)\n",
            "Requirement already satisfied: mdurl~=0.1 in /usr/local/lib/python3.10/dist-packages (from markdown-it-py>=2.2.0->rich>=10.11.0->typer<1.0,>=0.12->gradio) (0.1.2)\n",
            "Downloading gradio-5.12.0-py3-none-any.whl (57.6 MB)\n",
            "\u001b[2K   \u001b[90m━━━━━━━━━━━━━━━━━━━━━━━━━━━━━━━━━━━━━━━━\u001b[0m \u001b[32m57.6/57.6 MB\u001b[0m \u001b[31m13.2 MB/s\u001b[0m eta \u001b[36m0:00:00\u001b[0m\n",
            "\u001b[?25hDownloading gradio_client-1.5.4-py3-none-any.whl (321 kB)\n",
            "\u001b[2K   \u001b[90m━━━━━━━━━━━━━━━━━━━━━━━━━━━━━━━━━━━━━━━━\u001b[0m \u001b[32m321.4/321.4 kB\u001b[0m \u001b[31m28.0 MB/s\u001b[0m eta \u001b[36m0:00:00\u001b[0m\n",
            "\u001b[?25hDownloading aiofiles-23.2.1-py3-none-any.whl (15 kB)\n",
            "Downloading fastapi-0.115.6-py3-none-any.whl (94 kB)\n",
            "\u001b[2K   \u001b[90m━━━━━━━━━━━━━━━━━━━━━━━━━━━━━━━━━━━━━━━━\u001b[0m \u001b[32m94.8/94.8 kB\u001b[0m \u001b[31m9.3 MB/s\u001b[0m eta \u001b[36m0:00:00\u001b[0m\n",
            "\u001b[?25hDownloading MarkupSafe-2.1.5-cp310-cp310-manylinux_2_17_x86_64.manylinux2014_x86_64.whl (25 kB)\n",
            "Downloading python_multipart-0.0.20-py3-none-any.whl (24 kB)\n",
            "Downloading ruff-0.9.2-py3-none-manylinux_2_17_x86_64.manylinux2014_x86_64.whl (12.4 MB)\n",
            "\u001b[2K   \u001b[90m━━━━━━━━━━━━━━━━━━━━━━━━━━━━━━━━━━━━━━━━\u001b[0m \u001b[32m12.4/12.4 MB\u001b[0m \u001b[31m114.9 MB/s\u001b[0m eta \u001b[36m0:00:00\u001b[0m\n",
            "\u001b[?25hDownloading safehttpx-0.1.6-py3-none-any.whl (8.7 kB)\n",
            "Downloading semantic_version-2.10.0-py2.py3-none-any.whl (15 kB)\n",
            "Downloading starlette-0.41.3-py3-none-any.whl (73 kB)\n",
            "\u001b[2K   \u001b[90m━━━━━━━━━━━━━━━━━━━━━━━━━━━━━━━━━━━━━━━━\u001b[0m \u001b[32m73.2/73.2 kB\u001b[0m \u001b[31m7.2 MB/s\u001b[0m eta \u001b[36m0:00:00\u001b[0m\n",
            "\u001b[?25hDownloading tomlkit-0.13.2-py3-none-any.whl (37 kB)\n",
            "Downloading uvicorn-0.34.0-py3-none-any.whl (62 kB)\n",
            "\u001b[2K   \u001b[90m━━━━━━━━━━━━━━━━━━━━━━━━━━━━━━━━━━━━━━━━\u001b[0m \u001b[32m62.3/62.3 kB\u001b[0m \u001b[31m6.4 MB/s\u001b[0m eta \u001b[36m0:00:00\u001b[0m\n",
            "\u001b[?25hDownloading ffmpy-0.5.0-py3-none-any.whl (6.0 kB)\n",
            "Downloading pydub-0.25.1-py2.py3-none-any.whl (32 kB)\n",
            "Installing collected packages: pydub, uvicorn, tomlkit, semantic-version, ruff, python-multipart, markupsafe, ffmpy, aiofiles, starlette, safehttpx, gradio-client, fastapi, gradio\n",
            "  Attempting uninstall: markupsafe\n",
            "    Found existing installation: MarkupSafe 3.0.2\n",
            "    Uninstalling MarkupSafe-3.0.2:\n",
            "      Successfully uninstalled MarkupSafe-3.0.2\n",
            "Successfully installed aiofiles-23.2.1 fastapi-0.115.6 ffmpy-0.5.0 gradio-5.12.0 gradio-client-1.5.4 markupsafe-2.1.5 pydub-0.25.1 python-multipart-0.0.20 ruff-0.9.2 safehttpx-0.1.6 semantic-version-2.10.0 starlette-0.41.3 tomlkit-0.13.2 uvicorn-0.34.0\n"
          ]
        }
      ]
    },
    {
      "cell_type": "code",
      "source": [
        "!pip install langchain_community"
      ],
      "metadata": {
        "colab": {
          "base_uri": "https://localhost:8080/"
        },
        "collapsed": true,
        "id": "Q_u80-62c9Nz",
        "outputId": "2a683570-0b76-4fc5-a4d3-86dc49cb1a75"
      },
      "execution_count": 101,
      "outputs": [
        {
          "output_type": "stream",
          "name": "stdout",
          "text": [
            "Collecting langchain_community\n",
            "  Downloading langchain_community-0.3.15-py3-none-any.whl.metadata (2.9 kB)\n",
            "Requirement already satisfied: PyYAML>=5.3 in /usr/local/lib/python3.10/dist-packages (from langchain_community) (6.0.2)\n",
            "Requirement already satisfied: SQLAlchemy<3,>=1.4 in /usr/local/lib/python3.10/dist-packages (from langchain_community) (2.0.36)\n",
            "Requirement already satisfied: aiohttp<4.0.0,>=3.8.3 in /usr/local/lib/python3.10/dist-packages (from langchain_community) (3.11.10)\n",
            "Collecting dataclasses-json<0.7,>=0.5.7 (from langchain_community)\n",
            "  Downloading dataclasses_json-0.6.7-py3-none-any.whl.metadata (25 kB)\n",
            "Collecting httpx-sse<0.5.0,>=0.4.0 (from langchain_community)\n",
            "  Downloading httpx_sse-0.4.0-py3-none-any.whl.metadata (9.0 kB)\n",
            "Collecting langchain<0.4.0,>=0.3.15 (from langchain_community)\n",
            "  Downloading langchain-0.3.15-py3-none-any.whl.metadata (7.1 kB)\n",
            "Collecting langchain-core<0.4.0,>=0.3.31 (from langchain_community)\n",
            "  Downloading langchain_core-0.3.31-py3-none-any.whl.metadata (6.3 kB)\n",
            "Requirement already satisfied: langsmith<0.4,>=0.1.125 in /usr/local/lib/python3.10/dist-packages (from langchain_community) (0.2.3)\n",
            "Requirement already satisfied: numpy<2,>=1.22.4 in /usr/local/lib/python3.10/dist-packages (from langchain_community) (1.26.4)\n",
            "Collecting pydantic-settings<3.0.0,>=2.4.0 (from langchain_community)\n",
            "  Downloading pydantic_settings-2.7.1-py3-none-any.whl.metadata (3.5 kB)\n",
            "Requirement already satisfied: requests<3,>=2 in /usr/local/lib/python3.10/dist-packages (from langchain_community) (2.32.3)\n",
            "Requirement already satisfied: tenacity!=8.4.0,<10,>=8.1.0 in /usr/local/lib/python3.10/dist-packages (from langchain_community) (9.0.0)\n",
            "Requirement already satisfied: aiohappyeyeballs>=2.3.0 in /usr/local/lib/python3.10/dist-packages (from aiohttp<4.0.0,>=3.8.3->langchain_community) (2.4.4)\n",
            "Requirement already satisfied: aiosignal>=1.1.2 in /usr/local/lib/python3.10/dist-packages (from aiohttp<4.0.0,>=3.8.3->langchain_community) (1.3.2)\n",
            "Requirement already satisfied: async-timeout<6.0,>=4.0 in /usr/local/lib/python3.10/dist-packages (from aiohttp<4.0.0,>=3.8.3->langchain_community) (4.0.3)\n",
            "Requirement already satisfied: attrs>=17.3.0 in /usr/local/lib/python3.10/dist-packages (from aiohttp<4.0.0,>=3.8.3->langchain_community) (24.3.0)\n",
            "Requirement already satisfied: frozenlist>=1.1.1 in /usr/local/lib/python3.10/dist-packages (from aiohttp<4.0.0,>=3.8.3->langchain_community) (1.5.0)\n",
            "Requirement already satisfied: multidict<7.0,>=4.5 in /usr/local/lib/python3.10/dist-packages (from aiohttp<4.0.0,>=3.8.3->langchain_community) (6.1.0)\n",
            "Requirement already satisfied: propcache>=0.2.0 in /usr/local/lib/python3.10/dist-packages (from aiohttp<4.0.0,>=3.8.3->langchain_community) (0.2.1)\n",
            "Requirement already satisfied: yarl<2.0,>=1.17.0 in /usr/local/lib/python3.10/dist-packages (from aiohttp<4.0.0,>=3.8.3->langchain_community) (1.18.3)\n",
            "Collecting marshmallow<4.0.0,>=3.18.0 (from dataclasses-json<0.7,>=0.5.7->langchain_community)\n",
            "  Downloading marshmallow-3.25.1-py3-none-any.whl.metadata (7.3 kB)\n",
            "Collecting typing-inspect<1,>=0.4.0 (from dataclasses-json<0.7,>=0.5.7->langchain_community)\n",
            "  Downloading typing_inspect-0.9.0-py3-none-any.whl.metadata (1.5 kB)\n",
            "Requirement already satisfied: langchain-text-splitters<0.4.0,>=0.3.3 in /usr/local/lib/python3.10/dist-packages (from langchain<0.4.0,>=0.3.15->langchain_community) (0.3.3)\n",
            "Requirement already satisfied: pydantic<3.0.0,>=2.7.4 in /usr/local/lib/python3.10/dist-packages (from langchain<0.4.0,>=0.3.15->langchain_community) (2.10.3)\n",
            "Requirement already satisfied: jsonpatch<2.0,>=1.33 in /usr/local/lib/python3.10/dist-packages (from langchain-core<0.4.0,>=0.3.31->langchain_community) (1.33)\n",
            "Requirement already satisfied: packaging<25,>=23.2 in /usr/local/lib/python3.10/dist-packages (from langchain-core<0.4.0,>=0.3.31->langchain_community) (24.2)\n",
            "Requirement already satisfied: typing-extensions>=4.7 in /usr/local/lib/python3.10/dist-packages (from langchain-core<0.4.0,>=0.3.31->langchain_community) (4.12.2)\n",
            "Requirement already satisfied: httpx<1,>=0.23.0 in /usr/local/lib/python3.10/dist-packages (from langsmith<0.4,>=0.1.125->langchain_community) (0.28.1)\n",
            "Requirement already satisfied: orjson<4.0.0,>=3.9.14 in /usr/local/lib/python3.10/dist-packages (from langsmith<0.4,>=0.1.125->langchain_community) (3.10.12)\n",
            "Requirement already satisfied: requests-toolbelt<2.0.0,>=1.0.0 in /usr/local/lib/python3.10/dist-packages (from langsmith<0.4,>=0.1.125->langchain_community) (1.0.0)\n",
            "Collecting python-dotenv>=0.21.0 (from pydantic-settings<3.0.0,>=2.4.0->langchain_community)\n",
            "  Downloading python_dotenv-1.0.1-py3-none-any.whl.metadata (23 kB)\n",
            "Requirement already satisfied: charset-normalizer<4,>=2 in /usr/local/lib/python3.10/dist-packages (from requests<3,>=2->langchain_community) (3.4.0)\n",
            "Requirement already satisfied: idna<4,>=2.5 in /usr/local/lib/python3.10/dist-packages (from requests<3,>=2->langchain_community) (3.10)\n",
            "Requirement already satisfied: urllib3<3,>=1.21.1 in /usr/local/lib/python3.10/dist-packages (from requests<3,>=2->langchain_community) (2.2.3)\n",
            "Requirement already satisfied: certifi>=2017.4.17 in /usr/local/lib/python3.10/dist-packages (from requests<3,>=2->langchain_community) (2024.12.14)\n",
            "Requirement already satisfied: greenlet!=0.4.17 in /usr/local/lib/python3.10/dist-packages (from SQLAlchemy<3,>=1.4->langchain_community) (3.1.1)\n",
            "Requirement already satisfied: anyio in /usr/local/lib/python3.10/dist-packages (from httpx<1,>=0.23.0->langsmith<0.4,>=0.1.125->langchain_community) (3.7.1)\n",
            "Requirement already satisfied: httpcore==1.* in /usr/local/lib/python3.10/dist-packages (from httpx<1,>=0.23.0->langsmith<0.4,>=0.1.125->langchain_community) (1.0.7)\n",
            "Requirement already satisfied: h11<0.15,>=0.13 in /usr/local/lib/python3.10/dist-packages (from httpcore==1.*->httpx<1,>=0.23.0->langsmith<0.4,>=0.1.125->langchain_community) (0.14.0)\n",
            "Requirement already satisfied: jsonpointer>=1.9 in /usr/local/lib/python3.10/dist-packages (from jsonpatch<2.0,>=1.33->langchain-core<0.4.0,>=0.3.31->langchain_community) (3.0.0)\n",
            "Requirement already satisfied: annotated-types>=0.6.0 in /usr/local/lib/python3.10/dist-packages (from pydantic<3.0.0,>=2.7.4->langchain<0.4.0,>=0.3.15->langchain_community) (0.7.0)\n",
            "Requirement already satisfied: pydantic-core==2.27.1 in /usr/local/lib/python3.10/dist-packages (from pydantic<3.0.0,>=2.7.4->langchain<0.4.0,>=0.3.15->langchain_community) (2.27.1)\n",
            "Collecting mypy-extensions>=0.3.0 (from typing-inspect<1,>=0.4.0->dataclasses-json<0.7,>=0.5.7->langchain_community)\n",
            "  Downloading mypy_extensions-1.0.0-py3-none-any.whl.metadata (1.1 kB)\n",
            "Requirement already satisfied: sniffio>=1.1 in /usr/local/lib/python3.10/dist-packages (from anyio->httpx<1,>=0.23.0->langsmith<0.4,>=0.1.125->langchain_community) (1.3.1)\n",
            "Requirement already satisfied: exceptiongroup in /usr/local/lib/python3.10/dist-packages (from anyio->httpx<1,>=0.23.0->langsmith<0.4,>=0.1.125->langchain_community) (1.2.2)\n",
            "Downloading langchain_community-0.3.15-py3-none-any.whl (2.5 MB)\n",
            "\u001b[2K   \u001b[90m━━━━━━━━━━━━━━━━━━━━━━━━━━━━━━━━━━━━━━━━\u001b[0m \u001b[32m2.5/2.5 MB\u001b[0m \u001b[31m30.0 MB/s\u001b[0m eta \u001b[36m0:00:00\u001b[0m\n",
            "\u001b[?25hDownloading dataclasses_json-0.6.7-py3-none-any.whl (28 kB)\n",
            "Downloading httpx_sse-0.4.0-py3-none-any.whl (7.8 kB)\n",
            "Downloading langchain-0.3.15-py3-none-any.whl (1.0 MB)\n",
            "\u001b[2K   \u001b[90m━━━━━━━━━━━━━━━━━━━━━━━━━━━━━━━━━━━━━━━━\u001b[0m \u001b[32m1.0/1.0 MB\u001b[0m \u001b[31m54.8 MB/s\u001b[0m eta \u001b[36m0:00:00\u001b[0m\n",
            "\u001b[?25hDownloading langchain_core-0.3.31-py3-none-any.whl (412 kB)\n",
            "\u001b[2K   \u001b[90m━━━━━━━━━━━━━━━━━━━━━━━━━━━━━━━━━━━━━━━━\u001b[0m \u001b[32m412.2/412.2 kB\u001b[0m \u001b[31m27.4 MB/s\u001b[0m eta \u001b[36m0:00:00\u001b[0m\n",
            "\u001b[?25hDownloading pydantic_settings-2.7.1-py3-none-any.whl (29 kB)\n",
            "Downloading marshmallow-3.25.1-py3-none-any.whl (49 kB)\n",
            "\u001b[2K   \u001b[90m━━━━━━━━━━━━━━━━━━━━━━━━━━━━━━━━━━━━━━━━\u001b[0m \u001b[32m49.6/49.6 kB\u001b[0m \u001b[31m4.7 MB/s\u001b[0m eta \u001b[36m0:00:00\u001b[0m\n",
            "\u001b[?25hDownloading python_dotenv-1.0.1-py3-none-any.whl (19 kB)\n",
            "Downloading typing_inspect-0.9.0-py3-none-any.whl (8.8 kB)\n",
            "Downloading mypy_extensions-1.0.0-py3-none-any.whl (4.7 kB)\n",
            "Installing collected packages: python-dotenv, mypy-extensions, marshmallow, httpx-sse, typing-inspect, pydantic-settings, dataclasses-json, langchain-core, langchain, langchain_community\n",
            "  Attempting uninstall: langchain-core\n",
            "    Found existing installation: langchain-core 0.3.25\n",
            "    Uninstalling langchain-core-0.3.25:\n",
            "      Successfully uninstalled langchain-core-0.3.25\n",
            "  Attempting uninstall: langchain\n",
            "    Found existing installation: langchain 0.3.12\n",
            "    Uninstalling langchain-0.3.12:\n",
            "      Successfully uninstalled langchain-0.3.12\n",
            "Successfully installed dataclasses-json-0.6.7 httpx-sse-0.4.0 langchain-0.3.15 langchain-core-0.3.31 langchain_community-0.3.15 marshmallow-3.25.1 mypy-extensions-1.0.0 pydantic-settings-2.7.1 python-dotenv-1.0.1 typing-inspect-0.9.0\n"
          ]
        }
      ]
    },
    {
      "cell_type": "code",
      "source": [
        "import gradio as gr\n",
        "import os\n",
        "import torch\n",
        "from model import create_effnetb2_model\n",
        "from timeit import default_timer as timer\n",
        "from typing import Tuple, Dict\n",
        "from langchain.llms import OpenAI\n",
        "from langchain.prompts import PromptTemplate\n",
        "from langchain.chains import LLMChain\n",
        "\n",
        "# Set up OpenAI API key\n",
        "openai_api_key = os.getenv(\"OPENAI_API_KEY\")  # Ensure your API key is set in the environment\n",
        "\n",
        "# Setup class names\n",
        "with open(\"class_names.txt\", \"r\") as f:  # reading them in from class_names.txt\n",
        "    class_names = [food_name.strip() for food_name in f.readlines()]\n",
        "\n",
        "### 2. Model and transforms preparation ###\n",
        "\n",
        "# Create model\n",
        "effnetb2, effnetb2_transforms = create_effnetb2_model(\n",
        "    num_classes=101,  # could also use len(class_names)\n",
        ")\n",
        "\n",
        "# Load saved weights\n",
        "effnetb2.load_state_dict(\n",
        "    torch.load(\n",
        "        f=\"/content/EffnetB2_feature_extracted_model.pth\",\n",
        "        map_location=torch.device(\"cpu\"),  # load to CPU\n",
        "    )\n",
        ")\n",
        "\n",
        "### 3. LangChain Setup for Nutritional Information ###\n",
        "\n",
        "# Create the LangChain prompt template\n",
        "prompt_template = \"\"\"\n",
        "Provide a brief description and nutritional information about {food_name}.\n",
        "Include calories, macronutrients (proteins, carbs, fats), and any interesting facts.\n",
        "\"\"\"\n",
        "prompt = PromptTemplate(input_variables=[\"food_name\"], template=prompt_template)\n",
        "\n",
        "# Initialize OpenAI model with LangChain\n",
        "llm = OpenAI(api_key=openai_api_key, temperature=0.7)\n",
        "\n",
        "# Create LLMChain for the prompt\n",
        "chain = LLMChain(llm=llm, prompt=prompt)\n",
        "\n",
        "def fetch_nutritional_info(food_name: str) -> str:\n",
        "    \"\"\"Fetch nutritional information and details for the given food name using LangChain and OpenAI.\"\"\"\n",
        "    try:\n",
        "        # Run the LangChain chain to get the response\n",
        "        response = chain.run(food_name=food_name)\n",
        "        return response.strip()\n",
        "\n",
        "    except Exception as e:\n",
        "        return f\"Could not fetch nutritional information. Error: {str(e)}\"\n",
        "\n",
        "### 4. Predict function ###\n",
        "\n",
        "def predict(img) -> Tuple[Dict, float, str]:\n",
        "    \"\"\"Transforms and performs a prediction on img and returns prediction, time taken, and nutritional info.\"\"\"\n",
        "    # Start the timer\n",
        "    start_time = timer()\n",
        "\n",
        "    # Transform the target image and add a batch dimension\n",
        "    img = effnetb2_transforms(img).unsqueeze(0)\n",
        "\n",
        "    # Put model into evaluation mode and turn on inference mode\n",
        "    effnetb2.eval()\n",
        "    with torch.inference_mode():\n",
        "        # Pass the transformed image through the model and turn the prediction logits into prediction probabilities\n",
        "        pred_probs = torch.softmax(effnetb2(img), dim=1)\n",
        "\n",
        "    # Create a prediction label and prediction probability dictionary for each prediction class\n",
        "    pred_labels_and_probs = {class_names[i]: float(pred_probs[0][i]) for i in range(len(class_names))}\n",
        "\n",
        "    # Get the top prediction\n",
        "    top_prediction = max(pred_labels_and_probs, key=pred_labels_and_probs.get)\n",
        "\n",
        "    # Fetch nutritional information for the top prediction\n",
        "    nutritional_info = fetch_nutritional_info(top_prediction)\n",
        "\n",
        "    # Calculate the prediction time\n",
        "    pred_time = round(timer() - start_time, 5)\n",
        "\n",
        "    # Return the prediction dictionary, prediction time, and nutritional information\n",
        "    return pred_labels_and_probs, pred_time, nutritional_info\n",
        "\n",
        "### 5. Gradio app ###\n",
        "\n",
        "# Create title, description, and article strings\n",
        "title = \"FoodVision Big 🍔👁\"\n",
        "description = \"An EfficientNetB2 feature extractor computer vision model to classify images of food into [101 different classes](https://github.com/mrdbourke/pytorch-deep-learning/blob/main/extras/food101_class_names.txt). Now with nutritional information!\"\n",
        "article = \"Created at [09. PyTorch Model Deployment](https://www.learnpytorch.io/09_pytorch_model_deployment/).\"\n",
        "\n",
        "# Create examples list from \"examples/\" directory\n",
        "# example_list = [[\"examples/\" + example] for example in os.listdir(\"examples\")]\n",
        "\n",
        "# Create Gradio interface\n",
        "demo = gr.Interface(\n",
        "    fn=predict,\n",
        "    inputs=gr.Image(type=\"pil\"),\n",
        "    outputs=[\n",
        "        gr.Label(num_top_classes=5, label=\"Predictions\"),\n",
        "        gr.Number(label=\"Prediction time (s)\"),\n",
        "        gr.Textbox(label=\"Nutritional Information\"),\n",
        "    ],\n",
        "    # examples=example_list,\n",
        "    title=title,\n",
        "    description=description,\n",
        "    article=article,\n",
        ")\n",
        "\n",
        "# Launch the app!\n",
        "demo.launch()\n"
      ],
      "metadata": {
        "colab": {
          "base_uri": "https://localhost:8080/",
          "height": 715
        },
        "id": "AfdJQT_7bb9f",
        "outputId": "8416caad-0a98-49a6-8320-cf0e88498bfc"
      },
      "execution_count": 104,
      "outputs": [
        {
          "output_type": "stream",
          "name": "stderr",
          "text": [
            "<ipython-input-104-de26a9a3d07b>:27: FutureWarning: You are using `torch.load` with `weights_only=False` (the current default value), which uses the default pickle module implicitly. It is possible to construct malicious pickle data which will execute arbitrary code during unpickling (See https://github.com/pytorch/pytorch/blob/main/SECURITY.md#untrusted-models for more details). In a future release, the default value for `weights_only` will be flipped to `True`. This limits the functions that could be executed during unpickling. Arbitrary objects will no longer be allowed to be loaded via this mode unless they are explicitly allowlisted by the user via `torch.serialization.add_safe_globals`. We recommend you start setting `weights_only=True` for any use case where you don't have full control of the loaded file. Please open an issue on GitHub for any issues related to this experimental feature.\n",
            "  torch.load(\n",
            "<ipython-input-104-de26a9a3d07b>:46: LangChainDeprecationWarning: The class `LLMChain` was deprecated in LangChain 0.1.17 and will be removed in 1.0. Use :meth:`~RunnableSequence, e.g., `prompt | llm`` instead.\n",
            "  chain = LLMChain(llm=llm, prompt=prompt)\n"
          ]
        },
        {
          "output_type": "stream",
          "name": "stdout",
          "text": [
            "Running Gradio in a Colab notebook requires sharing enabled. Automatically setting `share=True` (you can turn this off by setting `share=False` in `launch()` explicitly).\n",
            "\n",
            "Colab notebook detected. To show errors in colab notebook, set debug=True in launch()\n",
            "* Running on public URL: https://f1d7289b57e7b43f2d.gradio.live\n",
            "\n",
            "This share link expires in 72 hours. For free permanent hosting and GPU upgrades, run `gradio deploy` from the terminal in the working directory to deploy to Hugging Face Spaces (https://huggingface.co/spaces)\n"
          ]
        },
        {
          "output_type": "display_data",
          "data": {
            "text/plain": [
              "<IPython.core.display.HTML object>"
            ],
            "text/html": [
              "<div><iframe src=\"https://f1d7289b57e7b43f2d.gradio.live\" width=\"100%\" height=\"500\" allow=\"autoplay; camera; microphone; clipboard-read; clipboard-write;\" frameborder=\"0\" allowfullscreen></iframe></div>"
            ]
          },
          "metadata": {}
        },
        {
          "output_type": "execute_result",
          "data": {
            "text/plain": []
          },
          "metadata": {},
          "execution_count": 104
        }
      ]
    },
    {
      "cell_type": "code",
      "source": [],
      "metadata": {
        "id": "gKQshnHMcC-l"
      },
      "execution_count": null,
      "outputs": []
    }
  ]
}